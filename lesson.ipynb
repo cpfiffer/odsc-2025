{
 "cells": [
  {
   "cell_type": "markdown",
   "metadata": {},
   "source": [
    "# ODSC 2025 RAG + Structured Generation with Outlines\n",
    "\n",
    "In this lesson, we'll be covering how to use Retrieval-Augmented Generation (RAG) to search for product reviews relevant to a question and then generate structured data from the reviews. We'll have well-structured data at the end that we can use for later analysis.\n",
    "\n",
    "At the end of this lesson, you'll be able to:\n",
    "\n",
    "- Use RAG (via [Milvus](https://milvus.io/)) to search for product reviews relevant to a question\n",
    "- Use LLMs and [Outlines](https://github.com/dottxt-ai/outlines) to generate structured data from the reviews to understand sentiment for various categories\n",
    "- Visualize the results using PCA\n",
    "\n",
    "The lesson is structured as follows:\n",
    "\n",
    "1. Load the dataset\n",
    "2. Preprocess the data\n",
    "3. Set up the vector database for RAG\n",
    "4. Use LLMs and Outlines to generate structured data from the reviews\n",
    "5. Visualize the results using PCA\n",
    "\n",
    "## Definitions\n",
    "\n",
    "Before we get started, let's define a few terms. Some of you may not be familiar with all of these terms, but that's okay! We'll be using them throughout the lesson.\n",
    "\n",
    "### Retrieval-augmented generation (RAG)\n",
    "\n",
    "RAG stands for retrieval-augmented generation. It's a technique that allows us to use a large language model (LLM) to generate text that is relevant to a specific question. For example, we can use RAG to search for product reviews that are relevant to a question like \"How do people feel about our prices?\".\n",
    "\n",
    "RAG is a good way to find text that is \"similar\" to a question, and placing it into a language model's context window so that the model can use it to generate a response.\n",
    "\n",
    "### Outlines + structured generation\n",
    "\n",
    "Outlines is an open-source framework for structured generation. Structured generation is a technique that allows us to use a large language model (LLM) to generate text that is structured in a specific way. For example, we can use structured generation to generate a list of categories that a user's experience falls into and provide a sentiment for each category.\n",
    "\n",
    "[DIAGRAM HERE]\n",
    "\n",
    "## Setup\n",
    "\n",
    "You will need to install the following packages:\n",
    "\n",
    "```bash\n",
    "pip install \"pymilvus[model]\" \"outlines[transformers]\" datasets sentence-transformers scikit-learn matplotlib pandas\n",
    "```\n",
    "\n",
    "You may also install the package from the `requirements.txt` file in the repository:\n",
    "\n",
    "```bash\n",
    "pip install -r requirements.txt\n",
    "```\n",
    "\n",
    "## Load the dataset\n",
    "\n",
    "We'll be working with a dataset of Amazon reviews for video games, provided by the [McAuley Lab](https://cseweb.ucsd.edu/~jmcauley/).\n",
    "\n",
    "The dataset is available on [Hugging Face](https://huggingface.co/datasets/McAuley-Lab/Amazon-Reviews-2023).\n",
    "\n",
    "We'll load the dataset using the `datasets` library. It may take a few seconds to download, so please be sure to start it early. It took me about 1.5 minutes to download the dataset."
   ]
  },
  {
   "cell_type": "code",
   "execution_count": 1,
   "metadata": {},
   "outputs": [
    {
     "name": "stderr",
     "output_type": "stream",
     "text": [
      "/home/cameron/dottxt/odsc/.venv/lib/python3.10/site-packages/tqdm/auto.py:21: TqdmWarning: IProgress not found. Please update jupyter and ipywidgets. See https://ipywidgets.readthedocs.io/en/stable/user_install.html\n",
      "  from .autonotebook import tqdm as notebook_tqdm\n"
     ]
    }
   ],
   "source": [
    "from datasets import load_dataset\n",
    "\n",
    "dataset = load_dataset(\n",
    "    \"McAuley-Lab/Amazon-Reviews-2023\", \n",
    "    \"raw_review_Video_Games\", \n",
    "    trust_remote_code=True,\n",
    "    cache_dir=\"cache\",\n",
    "    split=\"full\"\n",
    ")\n",
    "df = dataset.to_pandas()\n",
    "\n",
    "# Change the title column to be the \"review_title\" column\n",
    "df.rename(columns={'title': 'review_title'}, inplace=True)"
   ]
  },
  {
   "cell_type": "markdown",
   "metadata": {},
   "source": [
    "Next, we need to download the metadata for the dataset. This metadata contains information about the product, such as the product title, description, and other attributes. We primarily need the product title.\n",
    "\n",
    "Downloading the metadata may take 30-60 seconds."
   ]
  },
  {
   "cell_type": "code",
   "execution_count": 2,
   "metadata": {},
   "outputs": [],
   "source": [
    "meta_dataset = load_dataset(\n",
    "    \"McAuley-Lab/Amazon-Reviews-2023\", \n",
    "    \"raw_meta_Video_Games\", \n",
    "    trust_remote_code=True,\n",
    "    cache_dir=\"cache\",\n",
    "    split=\"full\"\n",
    ")\n",
    "\n",
    "meta_df = meta_dataset.to_pandas()\n",
    "\n",
    "# Change the title column to be the \"product_title\" column\n",
    "meta_df.rename(columns={'title': 'product_title'}, inplace=True)\n"
   ]
  },
  {
   "cell_type": "markdown",
   "metadata": {},
   "source": [
    "Next, we need to join the two datasets on the `parent_asin` column. This will allow us to get the product title for each review.\n",
    "\n",
    "`parent_asin` is the product ID for the product that the review is for. Some products on Amazon have multiple versions (`asin`), so the `parent_asin` is the same for all versions of the product."
   ]
  },
  {
   "cell_type": "code",
   "execution_count": 3,
   "metadata": {},
   "outputs": [
    {
     "data": {
      "text/html": [
       "<div>\n",
       "<style scoped>\n",
       "    .dataframe tbody tr th:only-of-type {\n",
       "        vertical-align: middle;\n",
       "    }\n",
       "\n",
       "    .dataframe tbody tr th {\n",
       "        vertical-align: top;\n",
       "    }\n",
       "\n",
       "    .dataframe thead th {\n",
       "        text-align: right;\n",
       "    }\n",
       "</style>\n",
       "<table border=\"1\" class=\"dataframe\">\n",
       "  <thead>\n",
       "    <tr style=\"text-align: right;\">\n",
       "      <th></th>\n",
       "      <th>rating</th>\n",
       "      <th>review_title</th>\n",
       "      <th>text</th>\n",
       "      <th>images_x</th>\n",
       "      <th>asin</th>\n",
       "      <th>parent_asin</th>\n",
       "      <th>user_id</th>\n",
       "      <th>timestamp</th>\n",
       "      <th>helpful_vote</th>\n",
       "      <th>verified_purchase</th>\n",
       "      <th>...</th>\n",
       "      <th>description</th>\n",
       "      <th>price</th>\n",
       "      <th>images_y</th>\n",
       "      <th>videos</th>\n",
       "      <th>store</th>\n",
       "      <th>categories</th>\n",
       "      <th>details</th>\n",
       "      <th>bought_together</th>\n",
       "      <th>subtitle</th>\n",
       "      <th>author</th>\n",
       "    </tr>\n",
       "  </thead>\n",
       "  <tbody>\n",
       "    <tr>\n",
       "      <th>0</th>\n",
       "      <td>4.0</td>\n",
       "      <td>It’s pretty sexual. Not my fav</td>\n",
       "      <td>I’m playing on ps5 and it’s interesting.  It’s...</td>\n",
       "      <td>[]</td>\n",
       "      <td>B07DJWBYKP</td>\n",
       "      <td>B07DK1H3H5</td>\n",
       "      <td>AGCI7FAH4GL5FI65HYLKWTMFZ2CQ</td>\n",
       "      <td>1608186804795</td>\n",
       "      <td>0</td>\n",
       "      <td>True</td>\n",
       "      <td>...</td>\n",
       "      <td>[Cyberpunk 2077 is an open world, an action ad...</td>\n",
       "      <td>None</td>\n",
       "      <td>{'hi_res': ['https://m.media-amazon.com/images...</td>\n",
       "      <td>{'title': ['Cyberpunk 2077 gameplay', 'AMZN_Cy...</td>\n",
       "      <td>WARNER BROS</td>\n",
       "      <td>[Video Games, PC, Games]</td>\n",
       "      <td>{\"Release date\": \"December 10, 2020\", \"Best Se...</td>\n",
       "      <td>None</td>\n",
       "      <td>None</td>\n",
       "      <td>None</td>\n",
       "    </tr>\n",
       "    <tr>\n",
       "      <th>1</th>\n",
       "      <td>5.0</td>\n",
       "      <td>Good. A bit slow</td>\n",
       "      <td>Nostalgic fun.  A bit slow.  I hope they don’t...</td>\n",
       "      <td>[]</td>\n",
       "      <td>B00ZS80PC2</td>\n",
       "      <td>B07SRWRH5D</td>\n",
       "      <td>AGCI7FAH4GL5FI65HYLKWTMFZ2CQ</td>\n",
       "      <td>1587051114941</td>\n",
       "      <td>1</td>\n",
       "      <td>False</td>\n",
       "      <td>...</td>\n",
       "      <td>[A spectacular reimagining of one of the most ...</td>\n",
       "      <td>25.95</td>\n",
       "      <td>{'hi_res': ['https://m.media-amazon.com/images...</td>\n",
       "      <td>{'title': ['Watch before you play this game!',...</td>\n",
       "      <td>Square Enix</td>\n",
       "      <td>[Video Games, PlayStation 4, Games]</td>\n",
       "      <td>{\"Release date\": \"April 10, 2020\", \"Best Selle...</td>\n",
       "      <td>None</td>\n",
       "      <td>None</td>\n",
       "      <td>None</td>\n",
       "    </tr>\n",
       "    <tr>\n",
       "      <th>2</th>\n",
       "      <td>5.0</td>\n",
       "      <td>... an order for my kids &amp; they have really en...</td>\n",
       "      <td>This was an order for my kids &amp; they have real...</td>\n",
       "      <td>[]</td>\n",
       "      <td>B01FEHJYUU</td>\n",
       "      <td>B07MFMFW34</td>\n",
       "      <td>AGXVBIUFLFGMVLATYXHJYL4A5Q7Q</td>\n",
       "      <td>1490877431000</td>\n",
       "      <td>0</td>\n",
       "      <td>True</td>\n",
       "      <td>...</td>\n",
       "      <td>[Civilization VI is a game about building an e...</td>\n",
       "      <td>29.99</td>\n",
       "      <td>{'hi_res': ['https://m.media-amazon.com/images...</td>\n",
       "      <td>{'title': ['Civilization 6: Rise and Fall Revi...</td>\n",
       "      <td>2K</td>\n",
       "      <td>[Video Games, PC, Games]</td>\n",
       "      <td>{\"Release date\": \"March 18, 2018\", \"Best Selle...</td>\n",
       "      <td>None</td>\n",
       "      <td>None</td>\n",
       "      <td>None</td>\n",
       "    </tr>\n",
       "    <tr>\n",
       "      <th>3</th>\n",
       "      <td>5.0</td>\n",
       "      <td>Great alt to pro controller</td>\n",
       "      <td>These work great, They use batteries which is ...</td>\n",
       "      <td>[]</td>\n",
       "      <td>B07GXJHRVK</td>\n",
       "      <td>B0BCHWZX95</td>\n",
       "      <td>AFTC6ZR5IKNRDG5JCPVNVMU3XV2Q</td>\n",
       "      <td>1577637634017</td>\n",
       "      <td>0</td>\n",
       "      <td>True</td>\n",
       "      <td>...</td>\n",
       "      <td>[Play your favorite Nintendo Switch games like...</td>\n",
       "      <td>67.61</td>\n",
       "      <td>{'hi_res': ['https://m.media-amazon.com/images...</td>\n",
       "      <td>{'title': ['PowerA Animal Crossing Nintendo Sw...</td>\n",
       "      <td>PowerA</td>\n",
       "      <td>[Video Games, Nintendo Switch, Accessories, Co...</td>\n",
       "      <td>{\"Release date\": \"September 17, 2018\", \"Best S...</td>\n",
       "      <td>None</td>\n",
       "      <td>None</td>\n",
       "      <td>None</td>\n",
       "    </tr>\n",
       "    <tr>\n",
       "      <th>4</th>\n",
       "      <td>5.0</td>\n",
       "      <td>solid product</td>\n",
       "      <td>I would recommend to anyone looking to add jus...</td>\n",
       "      <td>[]</td>\n",
       "      <td>B00HUWA45W</td>\n",
       "      <td>B00HUWA45W</td>\n",
       "      <td>AFTC6ZR5IKNRDG5JCPVNVMU3XV2Q</td>\n",
       "      <td>1427591932000</td>\n",
       "      <td>0</td>\n",
       "      <td>True</td>\n",
       "      <td>...</td>\n",
       "      <td>[]</td>\n",
       "      <td>None</td>\n",
       "      <td>{'hi_res': ['https://m.media-amazon.com/images...</td>\n",
       "      <td>{'title': [], 'url': [], 'user_id': []}</td>\n",
       "      <td>KontrolFreek</td>\n",
       "      <td>[Video Games, Xbox One, Accessories]</td>\n",
       "      <td>{\"Brand\": \"KontrolFreek\", \"Item model number\":...</td>\n",
       "      <td>None</td>\n",
       "      <td>None</td>\n",
       "      <td>None</td>\n",
       "    </tr>\n",
       "  </tbody>\n",
       "</table>\n",
       "<p>5 rows × 25 columns</p>\n",
       "</div>"
      ],
      "text/plain": [
       "   rating                                       review_title  \\\n",
       "0     4.0                     It’s pretty sexual. Not my fav   \n",
       "1     5.0                                   Good. A bit slow   \n",
       "2     5.0  ... an order for my kids & they have really en...   \n",
       "3     5.0                        Great alt to pro controller   \n",
       "4     5.0                                      solid product   \n",
       "\n",
       "                                                text images_x        asin  \\\n",
       "0  I’m playing on ps5 and it’s interesting.  It’s...       []  B07DJWBYKP   \n",
       "1  Nostalgic fun.  A bit slow.  I hope they don’t...       []  B00ZS80PC2   \n",
       "2  This was an order for my kids & they have real...       []  B01FEHJYUU   \n",
       "3  These work great, They use batteries which is ...       []  B07GXJHRVK   \n",
       "4  I would recommend to anyone looking to add jus...       []  B00HUWA45W   \n",
       "\n",
       "  parent_asin                       user_id      timestamp  helpful_vote  \\\n",
       "0  B07DK1H3H5  AGCI7FAH4GL5FI65HYLKWTMFZ2CQ  1608186804795             0   \n",
       "1  B07SRWRH5D  AGCI7FAH4GL5FI65HYLKWTMFZ2CQ  1587051114941             1   \n",
       "2  B07MFMFW34  AGXVBIUFLFGMVLATYXHJYL4A5Q7Q  1490877431000             0   \n",
       "3  B0BCHWZX95  AFTC6ZR5IKNRDG5JCPVNVMU3XV2Q  1577637634017             0   \n",
       "4  B00HUWA45W  AFTC6ZR5IKNRDG5JCPVNVMU3XV2Q  1427591932000             0   \n",
       "\n",
       "   verified_purchase  ...                                        description  \\\n",
       "0               True  ...  [Cyberpunk 2077 is an open world, an action ad...   \n",
       "1              False  ...  [A spectacular reimagining of one of the most ...   \n",
       "2               True  ...  [Civilization VI is a game about building an e...   \n",
       "3               True  ...  [Play your favorite Nintendo Switch games like...   \n",
       "4               True  ...                                                 []   \n",
       "\n",
       "   price                                           images_y  \\\n",
       "0   None  {'hi_res': ['https://m.media-amazon.com/images...   \n",
       "1  25.95  {'hi_res': ['https://m.media-amazon.com/images...   \n",
       "2  29.99  {'hi_res': ['https://m.media-amazon.com/images...   \n",
       "3  67.61  {'hi_res': ['https://m.media-amazon.com/images...   \n",
       "4   None  {'hi_res': ['https://m.media-amazon.com/images...   \n",
       "\n",
       "                                              videos         store  \\\n",
       "0  {'title': ['Cyberpunk 2077 gameplay', 'AMZN_Cy...   WARNER BROS   \n",
       "1  {'title': ['Watch before you play this game!',...   Square Enix   \n",
       "2  {'title': ['Civilization 6: Rise and Fall Revi...            2K   \n",
       "3  {'title': ['PowerA Animal Crossing Nintendo Sw...        PowerA   \n",
       "4            {'title': [], 'url': [], 'user_id': []}  KontrolFreek   \n",
       "\n",
       "                                          categories  \\\n",
       "0                           [Video Games, PC, Games]   \n",
       "1                [Video Games, PlayStation 4, Games]   \n",
       "2                           [Video Games, PC, Games]   \n",
       "3  [Video Games, Nintendo Switch, Accessories, Co...   \n",
       "4               [Video Games, Xbox One, Accessories]   \n",
       "\n",
       "                                             details bought_together subtitle  \\\n",
       "0  {\"Release date\": \"December 10, 2020\", \"Best Se...            None     None   \n",
       "1  {\"Release date\": \"April 10, 2020\", \"Best Selle...            None     None   \n",
       "2  {\"Release date\": \"March 18, 2018\", \"Best Selle...            None     None   \n",
       "3  {\"Release date\": \"September 17, 2018\", \"Best S...            None     None   \n",
       "4  {\"Brand\": \"KontrolFreek\", \"Item model number\":...            None     None   \n",
       "\n",
       "  author  \n",
       "0   None  \n",
       "1   None  \n",
       "2   None  \n",
       "3   None  \n",
       "4   None  \n",
       "\n",
       "[5 rows x 25 columns]"
      ]
     },
     "execution_count": 3,
     "metadata": {},
     "output_type": "execute_result"
    }
   ],
   "source": [
    "# Join the two datasets on the parent_asin column\n",
    "joined_df = df.merge(meta_df, on='parent_asin', how='inner')\n",
    "joined_df.head()"
   ]
  },
  {
   "cell_type": "markdown",
   "metadata": {},
   "source": [
    "That's a lot of data! Let's try and find a few products that we can work with more easily."
   ]
  },
  {
   "cell_type": "code",
   "execution_count": 4,
   "metadata": {},
   "outputs": [
    {
     "name": "stdout",
     "output_type": "stream",
     "text": [
      "parent_asin  product_title                                                                                                                                                                                           \n",
      "B01N3ASPNV   amFilm Tempered Glass Screen Protector for Nintendo Switch 2017 (2-Pack)                                                                                                                                    18105\n",
      "B0BN942894   BENGOO Stereo Pro Gaming Headset for PS4, PC, Xbox One Controller, Noise Cancelling Over Ear Headphones with Mic, LED Light, Bass Surround, Soft Memory Earmuffs for Laptop Mac Wii Accessory Kits          17310\n",
      "B077GG9D5D   DualShock 4 Wireless Controller for PlayStation 4 - Jet Black                                                                                                                                               15594\n",
      "B000N5Z2L4   Xbox Live Gold: 1 Month Membership [Digital Code]                                                                                                                                                           13329\n",
      "B0086VPUHI   Grand Theft Auto V: Premium Edition - Xbox One [Digital Code]                                                                                                                                               12100\n",
      "B004RMK5QG   PlayStation Plus: 12 Month Membership [Digital Code]                                                                                                                                                        10256\n",
      "B07YBXFDYN   Skyrim VR - PlayStation 4                                                                                                                                                                                    9430\n",
      "B00BGA9WK2   PlayStation 4 500GB Console [Old Model][Discontinued]                                                                                                                                                        8089\n",
      "B07V8YSBFG   Roblox Digital Gift Code for 1,200 Robux [Redeem Worldwide - Includes Exclusive Virtual Item] [Online Game Code]                                                                                             7844\n",
      "B07CRX5X9T   UtechSmart Venus Pro RGB Wireless MMO Gaming Mouse, 16,000 DPI Optical Sensor, 2.4 GHz Transmission Technology, Ergonomic Design, 16M Chroma RGB Lighting, 16 programmable Buttons, Up to 70 Hours           7570\n",
      "B07YBWT3PK   Fallout 4 - Xbox One                                                                                                                                                                                         7202\n",
      "B0C5K4M7WJ   HyperX Cloud II Wireless - Gaming Headset for PC, PS4/PS5, Nintendo Switch, Long Lasting Battery Up to 30 Hours, 7.1 Surround Sound, Memory Foam, Detachable Noise Cancelling Microphone, Mic Monitoring     7118\n",
      "B08LT6PT1X   Xbox Elite Wireless Controller Series 2 – Black                                                                                                                                                              7092\n",
      "B0883P3VSH   Turtle Beach Recon 50 Xbox Gaming Headset for Xbox Series X/ S, Xbox One, PS5, PS4, PlayStation, Nintendo Switch, Mobile & PC with 3.5mm - Removable Mic, 40mm Speakers - Black                              6528\n",
      "B00HTK1NCS   Redragon M601 RGB Gaming Mouse Backlit Wired Ergonomic 7 Button Programmable Mouse Centrophorus with Macro Recording & Weight Tuning Set 7200 DPI for Windows PC (Black)                                     6490\n",
      "B00DB2BI8M   Rocksmith 2014 Edition - PC/Mac (Cable Included)                                                                                                                                                             6320\n",
      "B081243BT6   Orzly Carrying case for Nintendo Switch OLED and Switch Console - Purple Protective Hard Portable Travel case Shell Pouch for Nintendo Switch Console & Accessories                                          6315\n",
      "B00C1TTF86   Battlefield 4 - Playstation 3                                                                                                                                                                                6216\n",
      "B087NNPYP3   The Legend of Zelda: Breath of the Wild Master Edition - Nintendo Switch                                                                                                                                     6090\n",
      "B019WRM1IA   Microsoft Xbox 360 Wired Controller for Windows & Xbox 360 Console                                                                                                                                           6087\n",
      "B005GFPZYK   American Sniper: The Autobiography of the Most Lethal Sniper in U.S. Military History                                                                                                                        6051\n",
      "B0C3KYVDWT   SanDisk 128GB microSDXC-Card, Licensed for Nintendo-Switch - SDSQXAO-128G-GNCZN                                                                                                                              5654\n",
      "B07WSHTJ48   Redragon S101 Gaming Keyboard, M601 Mouse, RGB Backlit Gaming Keyboard, Programmable Backlit Gaming Mouse, Value Combo Set [New Version]                                                                     5645\n",
      "B09XM8MMYD   Meta Quest 2 — Advanced All-In-One Virtual Reality Headset — 128 GB with Carrying Case, White                                                                                                                5543\n",
      "B07624RBWB   Nintendo Switch Pro Controller                                                                                                                                                                               5512\n",
      "B07K3KHFSY   Nyko Charge Base - 2 Port Controller Charger with 2 USB Charge Adapters for PlayStation 3                                                                                                                    5467\n",
      "B00CQ35C1Q   Logitech 981-000536 G430 7.1 Gaming Headset with Mic                                                                                                                                                         5380\n",
      "B08GYNLVF4   Karvipark Gaming Headset for Xbox One/PS4/PS5/PC/Nintendo Switch|Noise Cancelling,Bass Surround Sound,Over Ear,3.5mm Stereo Wired Headphones with Mic for Clear Chat                                         5366\n",
      "B07ZJ6RY1W   $45 Nintendo eShop Gift Card [Digital Code]                                                                                                                                                                  5343\n",
      "B07PZ8NZSZ   PlayStation 4 Pro 1TB Console                                                                                                                                                                                5181\n",
      "B00EP2WNKY   The Sims 4 - Movie Hangout Stuff - Origin PC [Online Game Code]                                                                                                                                              5161\n",
      "B00E4MQODC   Logitech G602 Lag-Free Wireless Gaming Mouse – 11 Programmable Buttons, Upto 2500 DPI                                                                                                                        5149\n",
      "B00W9DHUBS   Star Wars Battlefront Outer Rim - Xbox One Digital Code                                                                                                                                                      5144\n",
      "B00CJ9OTNE   Call of Duty Ghosts - PS3 [Digital Code]                                                                                                                                                                     5109\n",
      "B00HVBPRUO   Gold Wireless Stereo Headset - PlayStation 4                                                                                                                                                                 5096\n",
      "B07TC8J6HK   Jeecoo V20U USB Pro Gaming Headset for PC - 7.1 Surround Sound Headphones with Noise Cancelling Microphone- Memory Foam Ear Pads RGB Lights for Laptops                                                      4910\n",
      "B0BDWVBWC9   PowerA Charging Stand for PlayStation 4                                                                                                                                                                      4835\n",
      "B0BL65X86R   $25 PlayStation Store Gift Card [Digital Code]                                                                                                                                                               4827\n",
      "B00BN5T30E   Assassin's Creed IV Black Flag - PC                                                                                                                                                                          4771\n",
      "B0C3QFBBH5   HyperX Cloud Stinger – Gaming Headset, Lightweight, Comfortable Memory Foam, Swivel to Mute Noise-Cancellation Mic, Works on PC, PS4, PS5, Xbox One/Series X|S, Nintendo Switch and Mobile ,Black            4735\n",
      "B00DU2CHE2   Stereo Gaming Headphone Headset with Microphone (Blue)                                                                                                                                                       4725\n",
      "B01LPZM7VI   Xbox Wireless Controller – Black                                                                                                                                                                             4723\n",
      "B003DZ165W   Kindle Lighted Leather Cover, Black (Fits Kindle Keyboard)                                                                                                                                                   4671\n",
      "B0754LGLFP   Redragon K552 Mechanical Gaming Keyboard Rainbow LED Backlit Wired with Anti-Dust Proof Switches for Windows PC (White, 87 Keys Blue Switches)                                                               4651\n",
      "B06Y2LGTW3   Power Supply Brick for Xbox One, Xbox Power Supply Brick Cord AC Adapter Power Supply Charger Replacement for Xbox One                                                                                       4604\n",
      "B01GW3H3U8   Xbox Wireless Controller – White                                                                                                                                                                             4498\n",
      "B004LLHFAW   Battlefield 3 - Playstation 3                                                                                                                                                                                4407\n",
      "B0BVVTQ5JP   Logitech G502 HERO High Performance Wired Gaming Mouse, HERO 25K Sensor, 25,600 DPI, RGB, Adjustable Weights, 11 Programmable Buttons, On-Board Memory, PC / Mac, Black                                      4392\n",
      "B012DFI02O   VersionTECH. G2000 Gaming Headset for PS5 PS4 Xbox One Controller,Bass Surround Noise Cancelling Mic, Over Ear Headphones with LED Lights for Mac Laptop Xbox Series X S Nintendo Switch NES PC Games        4374\n",
      "B073SC6V1D   havit Gaming Keyboard and Mouse Combo, Backlit Computer keyboards and RGB Gaming Mouse, Gaming Accessories 104 Keys PC Gaming Keyboard with DPI 4800 Mouse for Gamer, Black                                  4370\n",
      "dtype: int64\n"
     ]
    }
   ],
   "source": [
    "# Count products \n",
    "print(joined_df.groupby(['parent_asin', 'product_title']).size().sort_values(ascending=False).head(50))\n"
   ]
  },
  {
   "cell_type": "markdown",
   "metadata": {},
   "source": [
    "I've selected a few games that I think will be interesting to work with, as most people have likely heard the name. These games are also well reviewed on Amazon.\n",
    "\n",
    "- Minecraft `B00BU3ZLJQ`\n",
    "- The Legend of Zelda: Breath of the Wild `B087NNPYP3`\n",
    "- Assassin's Creed IV: Black Flag `B00BN5T30E`\n",
    "- The Elder Scrolls V: Skyrim (Playstation 4) `B07YBXFDYN`\n",
    "\n",
    "I also add some timestamp parsing tools to make it easier to work with the data."
   ]
  },
  {
   "cell_type": "code",
   "execution_count": 5,
   "metadata": {},
   "outputs": [
    {
     "name": "stderr",
     "output_type": "stream",
     "text": [
      "/tmp/ipykernel_14333/4240318860.py:8: FutureWarning: Setting an item of incompatible dtype is deprecated and will raise in a future error of pandas. Value '['2016-12-18T02:56:36Z' '2016-12-25T16:13:30Z' '2017-03-16T06:39:04Z' ...\n",
      " '2014-07-02T00:53:26Z' '2011-12-30T00:14:48Z' '2014-11-29T18:39:39Z']' has dtype incompatible with int64, please explicitly cast to a compatible dtype first.\n",
      "  videogames.loc[:, 'timestamp'] = videogames['timestamp'].astype(int).map(lambda x: datetime.fromtimestamp(x/1000, tz=timezone.utc).strftime('%Y-%m-%dT%H:%M:%SZ'))\n"
     ]
    }
   ],
   "source": [
    "# Add date parsing tools\n",
    "from datetime import datetime, timezone\n",
    "\n",
    "# Filter the dataset to only include the selected games\n",
    "videogames = joined_df[joined_df['parent_asin'].isin(['B00BU3ZLJQ', 'B087NNPYP3', 'B00BN5T30E', 'B07YBXFDYN'])]\n",
    "\n",
    "# Parse the timestamp column from unix time to a datetime object\n",
    "videogames.loc[:, 'timestamp'] = videogames['timestamp'].astype(int).map(lambda x: datetime.fromtimestamp(x/1000, tz=timezone.utc).strftime('%Y-%m-%dT%H:%M:%SZ'))"
   ]
  },
  {
   "cell_type": "markdown",
   "metadata": {},
   "source": [
    "RAG and structured generation are both computationally expensive operations, so we'll want to keep the dataset small for exploration purposes. We have to calculate an [embedding](https://platform.openai.com/docs/guides/embeddings) for each review, so we'll want to keep the dataset small to avoid having to wait too long for results.\n",
    "\n",
    "This is still a relatively large dataset, so let's randomly sample 2000 rows to keep the computation time manageable. If you have a GPU, you can increase the sample rate."
   ]
  },
  {
   "cell_type": "code",
   "execution_count": 6,
   "metadata": {},
   "outputs": [],
   "source": [
    "\n",
    "# Randomly sample 1000 rows to keep the computation time manageable\n",
    "videogames = videogames.sample(n=1000)\n"
   ]
  },
  {
   "cell_type": "markdown",
   "metadata": {},
   "source": [
    "Great! Now we have a dataset of 1000 reviews for 4 games. Let's take a look at the dataset."
   ]
  },
  {
   "cell_type": "code",
   "execution_count": 7,
   "metadata": {},
   "outputs": [
    {
     "data": {
      "text/html": [
       "<div>\n",
       "<style scoped>\n",
       "    .dataframe tbody tr th:only-of-type {\n",
       "        vertical-align: middle;\n",
       "    }\n",
       "\n",
       "    .dataframe tbody tr th {\n",
       "        vertical-align: top;\n",
       "    }\n",
       "\n",
       "    .dataframe thead th {\n",
       "        text-align: right;\n",
       "    }\n",
       "</style>\n",
       "<table border=\"1\" class=\"dataframe\">\n",
       "  <thead>\n",
       "    <tr style=\"text-align: right;\">\n",
       "      <th></th>\n",
       "      <th>rating</th>\n",
       "      <th>review_title</th>\n",
       "      <th>text</th>\n",
       "      <th>images_x</th>\n",
       "      <th>asin</th>\n",
       "      <th>parent_asin</th>\n",
       "      <th>user_id</th>\n",
       "      <th>timestamp</th>\n",
       "      <th>helpful_vote</th>\n",
       "      <th>verified_purchase</th>\n",
       "      <th>...</th>\n",
       "      <th>description</th>\n",
       "      <th>price</th>\n",
       "      <th>images_y</th>\n",
       "      <th>videos</th>\n",
       "      <th>store</th>\n",
       "      <th>categories</th>\n",
       "      <th>details</th>\n",
       "      <th>bought_together</th>\n",
       "      <th>subtitle</th>\n",
       "      <th>author</th>\n",
       "    </tr>\n",
       "  </thead>\n",
       "  <tbody>\n",
       "    <tr>\n",
       "      <th>895985</th>\n",
       "      <td>5.0</td>\n",
       "      <td>Awesome on land and over sea. Rule the seas!</td>\n",
       "      <td>I have had an amazing time captaining my ship ...</td>\n",
       "      <td>[]</td>\n",
       "      <td>B00BMFIXOW</td>\n",
       "      <td>B00BN5T30E</td>\n",
       "      <td>AHVIIVUSR7AFB2QOYA5ZCMTQBSJA</td>\n",
       "      <td>2013-12-06T21:59:26Z</td>\n",
       "      <td>1</td>\n",
       "      <td>False</td>\n",
       "      <td>...</td>\n",
       "      <td>[From the Manufacturer, Assassin's Creed, ®, I...</td>\n",
       "      <td>43.89</td>\n",
       "      <td>{'hi_res': ['https://m.media-amazon.com/images...</td>\n",
       "      <td>{'title': ['See the Game Case! Great Ship Batt...</td>\n",
       "      <td>Ubisoft</td>\n",
       "      <td>[Video Games, PC, Games]</td>\n",
       "      <td>{\"Release date\": \"November 19, 2013\", \"Best Se...</td>\n",
       "      <td>None</td>\n",
       "      <td>None</td>\n",
       "      <td>None</td>\n",
       "    </tr>\n",
       "    <tr>\n",
       "      <th>824903</th>\n",
       "      <td>5.0</td>\n",
       "      <td>Same old Skyrim Just Better</td>\n",
       "      <td>If you liked Skyrim then this is a great way t...</td>\n",
       "      <td>[]</td>\n",
       "      <td>B01GW902DM</td>\n",
       "      <td>B07YBXFDYN</td>\n",
       "      <td>AFCB6BTUBDB4OFJWXPOITK44EZJA</td>\n",
       "      <td>2019-12-31T13:51:22Z</td>\n",
       "      <td>0</td>\n",
       "      <td>False</td>\n",
       "      <td>...</td>\n",
       "      <td>[A true, full-length open-world game for VR ha...</td>\n",
       "      <td>39.89</td>\n",
       "      <td>{'hi_res': ['https://m.media-amazon.com/images...</td>\n",
       "      <td>{'title': ['Skyrim VR - PlayStation 4', 'Skyri...</td>\n",
       "      <td>Bethesda</td>\n",
       "      <td>[Video Games, PlayStation 4, Games]</td>\n",
       "      <td>{\"Release date\": \"November 17, 2017\", \"Best Se...</td>\n",
       "      <td>None</td>\n",
       "      <td>None</td>\n",
       "      <td>None</td>\n",
       "    </tr>\n",
       "    <tr>\n",
       "      <th>2093905</th>\n",
       "      <td>5.0</td>\n",
       "      <td>Five Stars</td>\n",
       "      <td>Its Skyrim....What can I say</td>\n",
       "      <td>[]</td>\n",
       "      <td>B01GW8XJVU</td>\n",
       "      <td>B07YBXFDYN</td>\n",
       "      <td>AGM5IFHJEJAP7ZYTQNCAXYSJSWPA</td>\n",
       "      <td>2016-11-05T00:35:11Z</td>\n",
       "      <td>0</td>\n",
       "      <td>True</td>\n",
       "      <td>...</td>\n",
       "      <td>[A true, full-length open-world game for VR ha...</td>\n",
       "      <td>39.89</td>\n",
       "      <td>{'hi_res': ['https://m.media-amazon.com/images...</td>\n",
       "      <td>{'title': ['Skyrim VR - PlayStation 4', 'Skyri...</td>\n",
       "      <td>Bethesda</td>\n",
       "      <td>[Video Games, PlayStation 4, Games]</td>\n",
       "      <td>{\"Release date\": \"November 17, 2017\", \"Best Se...</td>\n",
       "      <td>None</td>\n",
       "      <td>None</td>\n",
       "      <td>None</td>\n",
       "    </tr>\n",
       "    <tr>\n",
       "      <th>1578389</th>\n",
       "      <td>5.0</td>\n",
       "      <td>Five Stars</td>\n",
       "      <td>Perfect condition</td>\n",
       "      <td>[]</td>\n",
       "      <td>B01GW902DM</td>\n",
       "      <td>B07YBXFDYN</td>\n",
       "      <td>AF4E4LSHDCTBGSVK3ZTB7YQPATXA</td>\n",
       "      <td>2017-01-09T15:05:33Z</td>\n",
       "      <td>0</td>\n",
       "      <td>True</td>\n",
       "      <td>...</td>\n",
       "      <td>[A true, full-length open-world game for VR ha...</td>\n",
       "      <td>39.89</td>\n",
       "      <td>{'hi_res': ['https://m.media-amazon.com/images...</td>\n",
       "      <td>{'title': ['Skyrim VR - PlayStation 4', 'Skyri...</td>\n",
       "      <td>Bethesda</td>\n",
       "      <td>[Video Games, PlayStation 4, Games]</td>\n",
       "      <td>{\"Release date\": \"November 17, 2017\", \"Best Se...</td>\n",
       "      <td>None</td>\n",
       "      <td>None</td>\n",
       "      <td>None</td>\n",
       "    </tr>\n",
       "    <tr>\n",
       "      <th>3624354</th>\n",
       "      <td>4.0</td>\n",
       "      <td>Great game, Bad UI</td>\n",
       "      <td>Make no mistake, Skyrim is good...Game wise. T...</td>\n",
       "      <td>[]</td>\n",
       "      <td>B004HYIAPM</td>\n",
       "      <td>B07YBXFDYN</td>\n",
       "      <td>AGSXASGRENFUMT4BNNH7UHKAQJFQ</td>\n",
       "      <td>2012-06-03T01:57:09Z</td>\n",
       "      <td>4</td>\n",
       "      <td>True</td>\n",
       "      <td>...</td>\n",
       "      <td>[A true, full-length open-world game for VR ha...</td>\n",
       "      <td>39.89</td>\n",
       "      <td>{'hi_res': ['https://m.media-amazon.com/images...</td>\n",
       "      <td>{'title': ['Skyrim VR - PlayStation 4', 'Skyri...</td>\n",
       "      <td>Bethesda</td>\n",
       "      <td>[Video Games, PlayStation 4, Games]</td>\n",
       "      <td>{\"Release date\": \"November 17, 2017\", \"Best Se...</td>\n",
       "      <td>None</td>\n",
       "      <td>None</td>\n",
       "      <td>None</td>\n",
       "    </tr>\n",
       "  </tbody>\n",
       "</table>\n",
       "<p>5 rows × 25 columns</p>\n",
       "</div>"
      ],
      "text/plain": [
       "         rating                                  review_title  \\\n",
       "895985      5.0  Awesome on land and over sea. Rule the seas!   \n",
       "824903      5.0                   Same old Skyrim Just Better   \n",
       "2093905     5.0                                    Five Stars   \n",
       "1578389     5.0                                    Five Stars   \n",
       "3624354     4.0                            Great game, Bad UI   \n",
       "\n",
       "                                                      text images_x  \\\n",
       "895985   I have had an amazing time captaining my ship ...       []   \n",
       "824903   If you liked Skyrim then this is a great way t...       []   \n",
       "2093905                       Its Skyrim....What can I say       []   \n",
       "1578389                                  Perfect condition       []   \n",
       "3624354  Make no mistake, Skyrim is good...Game wise. T...       []   \n",
       "\n",
       "               asin parent_asin                       user_id  \\\n",
       "895985   B00BMFIXOW  B00BN5T30E  AHVIIVUSR7AFB2QOYA5ZCMTQBSJA   \n",
       "824903   B01GW902DM  B07YBXFDYN  AFCB6BTUBDB4OFJWXPOITK44EZJA   \n",
       "2093905  B01GW8XJVU  B07YBXFDYN  AGM5IFHJEJAP7ZYTQNCAXYSJSWPA   \n",
       "1578389  B01GW902DM  B07YBXFDYN  AF4E4LSHDCTBGSVK3ZTB7YQPATXA   \n",
       "3624354  B004HYIAPM  B07YBXFDYN  AGSXASGRENFUMT4BNNH7UHKAQJFQ   \n",
       "\n",
       "                    timestamp  helpful_vote  verified_purchase  ...  \\\n",
       "895985   2013-12-06T21:59:26Z             1              False  ...   \n",
       "824903   2019-12-31T13:51:22Z             0              False  ...   \n",
       "2093905  2016-11-05T00:35:11Z             0               True  ...   \n",
       "1578389  2017-01-09T15:05:33Z             0               True  ...   \n",
       "3624354  2012-06-03T01:57:09Z             4               True  ...   \n",
       "\n",
       "                                               description  price  \\\n",
       "895985   [From the Manufacturer, Assassin's Creed, ®, I...  43.89   \n",
       "824903   [A true, full-length open-world game for VR ha...  39.89   \n",
       "2093905  [A true, full-length open-world game for VR ha...  39.89   \n",
       "1578389  [A true, full-length open-world game for VR ha...  39.89   \n",
       "3624354  [A true, full-length open-world game for VR ha...  39.89   \n",
       "\n",
       "                                                  images_y  \\\n",
       "895985   {'hi_res': ['https://m.media-amazon.com/images...   \n",
       "824903   {'hi_res': ['https://m.media-amazon.com/images...   \n",
       "2093905  {'hi_res': ['https://m.media-amazon.com/images...   \n",
       "1578389  {'hi_res': ['https://m.media-amazon.com/images...   \n",
       "3624354  {'hi_res': ['https://m.media-amazon.com/images...   \n",
       "\n",
       "                                                    videos     store  \\\n",
       "895985   {'title': ['See the Game Case! Great Ship Batt...   Ubisoft   \n",
       "824903   {'title': ['Skyrim VR - PlayStation 4', 'Skyri...  Bethesda   \n",
       "2093905  {'title': ['Skyrim VR - PlayStation 4', 'Skyri...  Bethesda   \n",
       "1578389  {'title': ['Skyrim VR - PlayStation 4', 'Skyri...  Bethesda   \n",
       "3624354  {'title': ['Skyrim VR - PlayStation 4', 'Skyri...  Bethesda   \n",
       "\n",
       "                                  categories  \\\n",
       "895985              [Video Games, PC, Games]   \n",
       "824903   [Video Games, PlayStation 4, Games]   \n",
       "2093905  [Video Games, PlayStation 4, Games]   \n",
       "1578389  [Video Games, PlayStation 4, Games]   \n",
       "3624354  [Video Games, PlayStation 4, Games]   \n",
       "\n",
       "                                                   details bought_together  \\\n",
       "895985   {\"Release date\": \"November 19, 2013\", \"Best Se...            None   \n",
       "824903   {\"Release date\": \"November 17, 2017\", \"Best Se...            None   \n",
       "2093905  {\"Release date\": \"November 17, 2017\", \"Best Se...            None   \n",
       "1578389  {\"Release date\": \"November 17, 2017\", \"Best Se...            None   \n",
       "3624354  {\"Release date\": \"November 17, 2017\", \"Best Se...            None   \n",
       "\n",
       "        subtitle author  \n",
       "895985      None   None  \n",
       "824903      None   None  \n",
       "2093905     None   None  \n",
       "1578389     None   None  \n",
       "3624354     None   None  \n",
       "\n",
       "[5 rows x 25 columns]"
      ]
     },
     "execution_count": 7,
     "metadata": {},
     "output_type": "execute_result"
    }
   ],
   "source": [
    "videogames.head()"
   ]
  },
  {
   "cell_type": "markdown",
   "metadata": {},
   "source": [
    "# Using Milvus\n",
    "\n",
    "```bash\n",
    "pip install \"pymilvus[model]\"\n",
    "```"
   ]
  },
  {
   "cell_type": "code",
   "execution_count": 8,
   "metadata": {},
   "outputs": [],
   "source": [
    "from pymilvus import MilvusClient\n",
    "\n",
    "client = MilvusClient(\"milvus_demo.db\")\n",
    "\n",
    "if client.has_collection(collection_name=\"demo_collection\"):\n",
    "    client.drop_collection(collection_name=\"demo_collection\")\n",
    "\n",
    "client.create_collection(\n",
    "    collection_name=\"demo_collection\",\n",
    "    dimension=768,  # The vectors we will use in this demo has 768 dimensions\n",
    ")"
   ]
  },
  {
   "cell_type": "markdown",
   "metadata": {},
   "source": [
    "## Quick primer on embeddings\n",
    "\n",
    "Embeddings are a way to represent text as a vector of numbers. This vector of numbers communicates the __meaning__ of the text to the embedding model -- for example, the embeddings for \"cat\" and \"dog\" are close to each other in the embedding space, while the embeddings for \"cat\" and \"car\" are far apart.\n",
    "\n",
    "Let me show you an example. First, we need to set up our embedding model.In this case, we'll be using the [nomic-embed-text-v1](https://huggingface.co/nomic-ai/nomic-embed-text-v1) model to embed the reviews.\n",
    "\n",
    "NOTE: all documents for this embedding model must be prepended with `search_document: ` or `search_query: `. This is model-specific -- you have to check the documentation for the model you are using."
   ]
  },
  {
   "cell_type": "code",
   "execution_count": 10,
   "metadata": {},
   "outputs": [
    {
     "ename": "ImportError",
     "evalue": "/home/cameron/dottxt/odsc/.venv/lib/python3.10/site-packages/torch/lib/../../nvidia/cusparse/lib/libcusparse.so.12: undefined symbol: __nvJitLinkComplete_12_4, version libnvJitLink.so.12",
     "output_type": "error",
     "traceback": [
      "\u001b[0;31m---------------------------------------------------------------------------\u001b[0m",
      "\u001b[0;31mImportError\u001b[0m                               Traceback (most recent call last)",
      "Cell \u001b[0;32mIn[10], line 1\u001b[0m\n\u001b[0;32m----> 1\u001b[0m \u001b[38;5;28;01mfrom\u001b[39;00m\u001b[38;5;250m \u001b[39m\u001b[38;5;21;01msentence_transformers\u001b[39;00m\u001b[38;5;250m \u001b[39m\u001b[38;5;28;01mimport\u001b[39;00m SentenceTransformer\n\u001b[1;32m      3\u001b[0m device \u001b[38;5;241m=\u001b[39m \u001b[38;5;124m'\u001b[39m\u001b[38;5;124mcuda\u001b[39m\u001b[38;5;124m'\u001b[39m\n\u001b[1;32m      5\u001b[0m \u001b[38;5;66;03m# https://huggingface.co/nomic-ai/nomic-embed-text-v1\u001b[39;00m\n",
      "File \u001b[0;32m~/dottxt/odsc/.venv/lib/python3.10/site-packages/sentence_transformers/__init__.py:9\u001b[0m\n\u001b[1;32m      6\u001b[0m \u001b[38;5;28;01mimport\u001b[39;00m\u001b[38;5;250m \u001b[39m\u001b[38;5;21;01mimportlib\u001b[39;00m\n\u001b[1;32m      7\u001b[0m \u001b[38;5;28;01mimport\u001b[39;00m\u001b[38;5;250m \u001b[39m\u001b[38;5;21;01mos\u001b[39;00m\n\u001b[0;32m----> 9\u001b[0m \u001b[38;5;28;01mfrom\u001b[39;00m\u001b[38;5;250m \u001b[39m\u001b[38;5;21;01msentence_transformers\u001b[39;00m\u001b[38;5;21;01m.\u001b[39;00m\u001b[38;5;21;01mbackend\u001b[39;00m\u001b[38;5;250m \u001b[39m\u001b[38;5;28;01mimport\u001b[39;00m (\n\u001b[1;32m     10\u001b[0m     export_dynamic_quantized_onnx_model,\n\u001b[1;32m     11\u001b[0m     export_optimized_onnx_model,\n\u001b[1;32m     12\u001b[0m     export_static_quantized_openvino_model,\n\u001b[1;32m     13\u001b[0m )\n\u001b[1;32m     14\u001b[0m \u001b[38;5;28;01mfrom\u001b[39;00m\u001b[38;5;250m \u001b[39m\u001b[38;5;21;01msentence_transformers\u001b[39;00m\u001b[38;5;21;01m.\u001b[39;00m\u001b[38;5;21;01mcross_encoder\u001b[39;00m\u001b[38;5;21;01m.\u001b[39;00m\u001b[38;5;21;01mCrossEncoder\u001b[39;00m\u001b[38;5;250m \u001b[39m\u001b[38;5;28;01mimport\u001b[39;00m CrossEncoder\n\u001b[1;32m     15\u001b[0m \u001b[38;5;28;01mfrom\u001b[39;00m\u001b[38;5;250m \u001b[39m\u001b[38;5;21;01msentence_transformers\u001b[39;00m\u001b[38;5;21;01m.\u001b[39;00m\u001b[38;5;21;01mdatasets\u001b[39;00m\u001b[38;5;250m \u001b[39m\u001b[38;5;28;01mimport\u001b[39;00m ParallelSentencesDataset, SentencesDataset\n",
      "File \u001b[0;32m~/dottxt/odsc/.venv/lib/python3.10/site-packages/sentence_transformers/backend.py:11\u001b[0m\n\u001b[1;32m      7\u001b[0m \u001b[38;5;28;01mfrom\u001b[39;00m\u001b[38;5;250m \u001b[39m\u001b[38;5;21;01mtyping\u001b[39;00m\u001b[38;5;250m \u001b[39m\u001b[38;5;28;01mimport\u001b[39;00m TYPE_CHECKING, Callable, Literal\n\u001b[1;32m      9\u001b[0m \u001b[38;5;28;01mimport\u001b[39;00m\u001b[38;5;250m \u001b[39m\u001b[38;5;21;01mhuggingface_hub\u001b[39;00m\n\u001b[0;32m---> 11\u001b[0m \u001b[38;5;28;01mfrom\u001b[39;00m\u001b[38;5;250m \u001b[39m\u001b[38;5;21;01msentence_transformers\u001b[39;00m\u001b[38;5;21;01m.\u001b[39;00m\u001b[38;5;21;01mutil\u001b[39;00m\u001b[38;5;250m \u001b[39m\u001b[38;5;28;01mimport\u001b[39;00m disable_datasets_caching, is_datasets_available\n\u001b[1;32m     13\u001b[0m logger \u001b[38;5;241m=\u001b[39m logging\u001b[38;5;241m.\u001b[39mgetLogger(\u001b[38;5;18m__name__\u001b[39m)\n\u001b[1;32m     15\u001b[0m \u001b[38;5;28;01mif\u001b[39;00m TYPE_CHECKING:\n",
      "File \u001b[0;32m~/dottxt/odsc/.venv/lib/python3.10/site-packages/sentence_transformers/util.py:17\u001b[0m\n\u001b[1;32m     15\u001b[0m \u001b[38;5;28;01mimport\u001b[39;00m\u001b[38;5;250m \u001b[39m\u001b[38;5;21;01mnumpy\u001b[39;00m\u001b[38;5;250m \u001b[39m\u001b[38;5;28;01mas\u001b[39;00m\u001b[38;5;250m \u001b[39m\u001b[38;5;21;01mnp\u001b[39;00m\n\u001b[1;32m     16\u001b[0m \u001b[38;5;28;01mimport\u001b[39;00m\u001b[38;5;250m \u001b[39m\u001b[38;5;21;01mrequests\u001b[39;00m\n\u001b[0;32m---> 17\u001b[0m \u001b[38;5;28;01mimport\u001b[39;00m\u001b[38;5;250m \u001b[39m\u001b[38;5;21;01mtorch\u001b[39;00m\n\u001b[1;32m     18\u001b[0m \u001b[38;5;28;01mfrom\u001b[39;00m\u001b[38;5;250m \u001b[39m\u001b[38;5;21;01mhuggingface_hub\u001b[39;00m\u001b[38;5;250m \u001b[39m\u001b[38;5;28;01mimport\u001b[39;00m hf_hub_download, snapshot_download\n\u001b[1;32m     19\u001b[0m \u001b[38;5;28;01mfrom\u001b[39;00m\u001b[38;5;250m \u001b[39m\u001b[38;5;21;01mtorch\u001b[39;00m\u001b[38;5;250m \u001b[39m\u001b[38;5;28;01mimport\u001b[39;00m Tensor, device\n",
      "File \u001b[0;32m~/dottxt/odsc/.venv/lib/python3.10/site-packages/torch/__init__.py:367\u001b[0m\n\u001b[1;32m    365\u001b[0m     \u001b[38;5;28;01mif\u001b[39;00m USE_GLOBAL_DEPS:\n\u001b[1;32m    366\u001b[0m         _load_global_deps()\n\u001b[0;32m--> 367\u001b[0m     \u001b[38;5;28;01mfrom\u001b[39;00m\u001b[38;5;250m \u001b[39m\u001b[38;5;21;01mtorch\u001b[39;00m\u001b[38;5;21;01m.\u001b[39;00m\u001b[38;5;21;01m_C\u001b[39;00m\u001b[38;5;250m \u001b[39m\u001b[38;5;28;01mimport\u001b[39;00m \u001b[38;5;241m*\u001b[39m  \u001b[38;5;66;03m# noqa: F403\u001b[39;00m\n\u001b[1;32m    370\u001b[0m \u001b[38;5;28;01mclass\u001b[39;00m\u001b[38;5;250m \u001b[39m\u001b[38;5;21;01mSymInt\u001b[39;00m:\n\u001b[1;32m    371\u001b[0m \u001b[38;5;250m    \u001b[39m\u001b[38;5;124;03m\"\"\"\u001b[39;00m\n\u001b[1;32m    372\u001b[0m \u001b[38;5;124;03m    Like an int (including magic methods), but redirects all operations on the\u001b[39;00m\n\u001b[1;32m    373\u001b[0m \u001b[38;5;124;03m    wrapped node. This is used in particular to symbolically record operations\u001b[39;00m\n\u001b[1;32m    374\u001b[0m \u001b[38;5;124;03m    in the symbolic shape workflow.\u001b[39;00m\n\u001b[1;32m    375\u001b[0m \u001b[38;5;124;03m    \"\"\"\u001b[39;00m\n",
      "\u001b[0;31mImportError\u001b[0m: /home/cameron/dottxt/odsc/.venv/lib/python3.10/site-packages/torch/lib/../../nvidia/cusparse/lib/libcusparse.so.12: undefined symbol: __nvJitLinkComplete_12_4, version libnvJitLink.so.12"
     ]
    }
   ],
   "source": [
    "from sentence_transformers import SentenceTransformer\n",
    "\n",
    "device = 'cuda'\n",
    "\n",
    "# https://huggingface.co/nomic-ai/nomic-embed-text-v1\n",
    "embedding_model = SentenceTransformer(\n",
    "    \"nomic-ai/nomic-embed-text-v1\", \n",
    "    trust_remote_code=True,\n",
    "    device=device # Uncomment this line if you have a GPU\n",
    ")\n",
    "\n",
    "# NOTE: all documents for this embedding model must be\n",
    "# prepended with search_document: or search_query: \n",
    "document_prefix = \"search_document: \"\n",
    "query_prefix = \"search_query: \""
   ]
  },
  {
   "cell_type": "markdown",
   "metadata": {},
   "source": [
    "As I mentioned before, embeddings are a way to represent text as a vector of numbers. Let's take a look at the embedding space for a few documents.\n",
    "\n",
    "Don't worry too much about what's going on in this code block -- all we're doing is \n",
    "\n",
    "1. Calculating the embeddings for a few documents\n",
    "2. Reducing the dimensionality of the embeddings from 768 dimensions to 2 dimensions so we can visualize them"
   ]
  },
  {
   "cell_type": "code",
   "execution_count": null,
   "metadata": {},
   "outputs": [],
   "source": [
    "from sklearn.decomposition import PCA\n",
    "import matplotlib.pyplot as plt\n",
    "\n",
    "documents = [\"cat\", \"dog\", \"king\", \"queen\", \"video game\", 'minecraft', 'zelda', 'skyrim']\n",
    "vectors = embedding_model.encode([document_prefix + doc for doc in documents])\n",
    "\n",
    "# Show the principle components of the embedding space\n",
    "pca = PCA(n_components=2)\n",
    "transformed = pca.fit_transform(vectors)\n",
    "\n",
    "# Create the scatter plot\n",
    "plt.figure(figsize=(8, 6))\n",
    "plt.scatter(transformed[:, 0], transformed[:, 1])\n",
    "\n",
    "# Add labels above each point\n",
    "for i, doc in enumerate(documents):\n",
    "    plt.annotate(doc, \n",
    "                (transformed[i, 0], transformed[i, 1]),\n",
    "                xytext=(0, 10),  # 10 points vertical offset\n",
    "                textcoords='offset points',\n",
    "                ha='center',  # horizontal alignment\n",
    "                va='bottom') # vertical alignment\n",
    "\n",
    "plt.show()"
   ]
  },
  {
   "cell_type": "markdown",
   "metadata": {},
   "source": [
    "Note that the embeddings for \"cat\" and \"dog\" are close to each other, as are \"king\" and \"queen\". Video games are close to each other and form a cluster.\n",
    "\n",
    "When we do RAG, all we are doing is finding embeddings that are close to the query embedding. Let me add a query to the embedding space and see what happens."
   ]
  },
  {
   "cell_type": "code",
   "execution_count": null,
   "metadata": {},
   "outputs": [],
   "source": [
    "from sklearn.decomposition import PCA\n",
    "import matplotlib.pyplot as plt\n",
    "\n",
    "documents = [\"cat\", \"dog\", \"king\", \"queen\", \"video game\", 'minecraft', 'zelda', 'skyrim']\n",
    "query = \"What games do people like?\"\n",
    "vectors = embedding_model.encode([document_prefix + doc for doc in documents])\n",
    "query_vector = embedding_model.encode([query_prefix + query])\n",
    "\n",
    "# Show the principle components of the embedding space\n",
    "pca = PCA(n_components=2)\n",
    "transformed = pca.fit_transform(vectors)\n",
    "transformed_query = pca.transform(query_vector[0].reshape(1, -1))\n",
    "\n",
    "# Create the scatter plot\n",
    "plt.figure(figsize=(8, 6))\n",
    "plt.scatter(transformed[:, 0], transformed[:, 1])\n",
    "\n",
    "# Add labels above each point\n",
    "for i, doc in enumerate(documents):\n",
    "    plt.annotate(doc, \n",
    "                (transformed[i, 0], transformed[i, 1]),\n",
    "                xytext=(0, 10),  # 10 points vertical offset\n",
    "                textcoords='offset points',\n",
    "                ha='center',  # horizontal alignment\n",
    "                va='bottom') # vertical alignment\n",
    "\n",
    "plt.scatter(transformed_query[0][0], transformed_query[0][1], color='red', marker='x', s=100)\n",
    "plt.show()"
   ]
  },
  {
   "cell_type": "markdown",
   "metadata": {},
   "source": [
    "In practice, we don't visualize the embedding space for RAG purposes. We use a metric called __cosine similarity__ to find the most similar documents to a query.\n",
    "\n",
    "Here's an example of how we can calculate the cosine similarity between a query and a document."
   ]
  },
  {
   "cell_type": "code",
   "execution_count": null,
   "metadata": {},
   "outputs": [],
   "source": [
    "import numpy as np\n",
    "\n",
    "\n",
    "def cosine_similarity(a, b):\n",
    "    return np.dot(a, b) / (np.linalg.norm(a) * np.linalg.norm(b))\n",
    "\n",
    "for (doc, vector) in zip(documents, vectors):\n",
    "    print(f\"{doc:<12}{cosine_similarity(query_vector[0], vector):.2f}\")\n"
   ]
  },
  {
   "cell_type": "markdown",
   "metadata": {},
   "source": [
    "This is what vector databases like Milvus do, albeit more efficiently. You upload embedding vectors, and query the database using a query vector.\n",
    "\n",
    "## Returning to the dataset\n",
    "\n",
    "Now we've introduced embeddings and vector databases, let's return to the dataset.\n",
    "\n",
    "We want to upload embeddings to the vector that contain as much semantic information as possible. In this case, I've chosen to create a single string for each review that contains the review title, text, product title, and rating."
   ]
  },
  {
   "cell_type": "code",
   "execution_count": null,
   "metadata": {},
   "outputs": [],
   "source": [
    "# Preprocess the text -- compacts the r eview title, text, and product title into a single string\n",
    "def preprocess_text(row):\n",
    "    product_title_row = \"\"\n",
    "    # product_title_row = \"Review for product: \" + row['product_title']\n",
    "    review_title_row = \"Review Title: \" + row['review_title']\n",
    "    rating_row = \"Rating: \" + str(row['rating'])\n",
    "    review_text_row = \"Review Text: \" + row['text']\n",
    "    return f\"{product_title_row} \\n{review_title_row} \\n{rating_row} \\n{review_text_row}\"\n",
    "\n",
    "videogames.loc[:, 'processed_text'] = videogames.apply(preprocess_text, axis=1)\n"
   ]
  },
  {
   "cell_type": "code",
   "execution_count": null,
   "metadata": {},
   "outputs": [],
   "source": [
    "print(videogames.processed_text.iloc[5])"
   ]
  },
  {
   "cell_type": "markdown",
   "metadata": {},
   "source": [
    "Notice how much information is preserved in the processed text. We have the name of the product, the review title, the rating, and the review text. Any vector search will be able to use this information to find the most relevant reviews. You may wish to remove the product title to allow the embeddings to focus on the review text -- this is a good exercise for you to try!\n",
    "\n",
    "Next, we'll upload the embeddings to the vector database. This is one of the more computationally expensive operations, so it may take a few seconds to complete depending on your hardware."
   ]
  },
  {
   "cell_type": "code",
   "execution_count": null,
   "metadata": {},
   "outputs": [],
   "source": [
    "# Text strings to search from.\n",
    "docs = videogames.processed_text.tolist()\n",
    "vectors = embedding_model.encode([document_prefix + doc for doc in docs])"
   ]
  },
  {
   "cell_type": "markdown",
   "metadata": {},
   "source": [
    "`vectors` contains the embeddings for each review, and `docs` contains the processed text for each review.\n",
    "\n",
    "Let's upload the embeddings to the vector database."
   ]
  },
  {
   "cell_type": "code",
   "execution_count": null,
   "metadata": {},
   "outputs": [],
   "source": [
    "# Each entity has id, vector representation, raw text, and a subject laabel that we use\n",
    "# to demo metadata filtering later.\n",
    "data = [{\n",
    "    'id':i, \n",
    "    'vector':vectors[i].tolist(), \n",
    "    'text':docs[i],\n",
    "    'product_title': videogames.product_title.iloc[i],\n",
    "    'parent_asin': videogames.parent_asin.iloc[i],\n",
    "    'asin': videogames.asin.iloc[i],\n",
    "    'rating': videogames.rating.iloc[i],\n",
    "    'timestamp': videogames.timestamp.iloc[i],\n",
    "    'user_id': videogames.user_id.iloc[i],\n",
    "} for i in range(len(vectors))]\n",
    "\n",
    "print(\"Data has\", len(data), \"entities, each with fields: \", data[0].keys())\n",
    "print(\"Vector dim:\", len(data[0][\"vector\"]))\n"
   ]
  },
  {
   "cell_type": "markdown",
   "metadata": {},
   "source": [
    "Milvus uses `client.insert` to upload data to the vector database. We simply provide the collection name and the data to upload.\n"
   ]
  },
  {
   "cell_type": "code",
   "execution_count": null,
   "metadata": {},
   "outputs": [],
   "source": [
    "client.insert(collection_name=\"demo_collection\", data=data)"
   ]
  },
  {
   "cell_type": "markdown",
   "metadata": {},
   "source": [
    "We have now uploaded the data to the vector database, which means we can perform semantic search on the data.\n",
    "\n",
    "We need to pick a question that will determine which reviews are relevant to the question. \n",
    "\n",
    "Suppose we want to know about prices. Are our prices too low? Too high?\n",
    "\n",
    "I'll propose a question that will determine which reviews are relevant to the question. I've phrased it to be general enough to be relevant to all of the products in our dataset, and I've attempted to keep the question from focusing on high or low prices specifically."
   ]
  },
  {
   "cell_type": "code",
   "execution_count": null,
   "metadata": {},
   "outputs": [],
   "source": [
    "question = \"\"\"\n",
    "How do people feel about our prices? I'm trying to understand how people feel about our prices, \n",
    "both good and bad.\n",
    "\"\"\"\n"
   ]
  },
  {
   "cell_type": "markdown",
   "metadata": {},
   "source": [
    "Vector search compares the query vector to the vectors in the database. The query vector is the embedding for the question. Using our model, we have to append `search_query: ` to the question."
   ]
  },
  {
   "cell_type": "code",
   "execution_count": null,
   "metadata": {},
   "outputs": [],
   "source": [
    "# Embed the query and convert the resulting embedding to a list\n",
    "query_embeddings = [\n",
    "    m.tolist() \n",
    "    for m in embedding_model.encode([query_prefix + question])\n",
    "]\n"
   ]
  },
  {
   "cell_type": "markdown",
   "metadata": {},
   "source": [
    "Let's search the database using the query vector.\n",
    "\n",
    "The `limit` parameter determines how many results we want to return -- set this to a lower number if your computer is not powerful."
   ]
  },
  {
   "cell_type": "code",
   "execution_count": null,
   "metadata": {},
   "outputs": [],
   "source": [
    "res = client.search(\n",
    "    collection_name=\"demo_collection\",\n",
    "    data=query_embeddings,\n",
    "    limit=50,\n",
    "    # Let's limit the search to Minecraft for now\n",
    "    filter=\"product_title == 'Minecraft'\",\n",
    "    output_fields=[\n",
    "        \"text\", \n",
    "        \"product_title\", \n",
    "        \"parent_asin\", \n",
    "        \"asin\", \n",
    "        \"rating\", \n",
    "        \"timestamp\", \n",
    "        \"helpful_vote\", \n",
    "        \"verified_purchase\", \n",
    "        \"user_id\", \n",
    "        \"review_title\",\n",
    "        'id'\n",
    "    ],\n",
    ")\n",
    "\n",
    "print(res[0][0]['entity']['text'])"
   ]
  },
  {
   "cell_type": "markdown",
   "metadata": {},
   "source": [
    "Finally, let's extract the text from the search results to pass them to the LLM."
   ]
  },
  {
   "cell_type": "code",
   "execution_count": null,
   "metadata": {},
   "outputs": [],
   "source": [
    "# Get the resulting query text\n",
    "# Note: we only provided a single query, so we take the 0th result.\n",
    "# Milvus search queries are lists by default.\n",
    "reviews = [doc['entity']['text'] for doc in res[0]] \n"
   ]
  },
  {
   "cell_type": "markdown",
   "metadata": {},
   "source": [
    "# Using Outlines\n"
   ]
  },
  {
   "cell_type": "markdown",
   "metadata": {},
   "source": [
    "Outlines is a framework for structured generation. It allows us to use a large language model (LLM) to generate text that is structured in a specific way.\n",
    "\n",
    "We are going to use the `HuggingFaceTB/SmolLM2-135M-Instruct` model. This is a small model that is fast and cheap to run. Most computers should be able to run this. \n",
    "\n",
    "It can be relatively low quality however, so you may consider using a larger, more performant model."
   ]
  },
  {
   "cell_type": "code",
   "execution_count": null,
   "metadata": {},
   "outputs": [],
   "source": [
    "import outlines\n",
    "\n",
    "# Choose our model. These are arranged from smallest to largest,\n",
    "# so choose the one that is appropriate for your hardware.\n",
    "#\n",
    "# The larger models will generally give better results, but\n",
    "# will also be slower and memory-intensive.\n",
    "\n",
    "# model_string = 'HuggingFaceTB/SmolLM2-135M-Instruct'\n",
    "# model_string = 'HuggingFaceTB/SmolLM2-360M-Instruct'\n",
    "# model_string = 'HuggingFaceTB/SmolLM2-1.7B-Instruct' \n",
    "model_string = 'microsoft/Phi-3.5-mini-instruct' # this is a larger model that has generally good results\n",
    "\n",
    "# Load the model\n",
    "llm = outlines.models.transformers(\n",
    "    model_string,\n",
    "    device=device # Uncomment this line if you have a GPU\n",
    ")"
   ]
  },
  {
   "cell_type": "markdown",
   "metadata": {},
   "source": [
    "Outlines does not add chat template tokens to the model, so we need to add them manually. Chat template tokens are special tokens used in instruction-tuned models to indicate system prompts, user prompts, and assistant prompts.\n",
    "\n",
    "Failing to include chat template tokens will cause the model to generate text with unpredicatable results. The output will _always_ conform to the schema, but the actual text may be nonsensical or incorrect.\n",
    "\n",
    "`transformers` provides an `AutoTokenizer` class that can be used to easily apply chat template tokens to the model.\n"
   ]
  },
  {
   "cell_type": "code",
   "execution_count": null,
   "metadata": {},
   "outputs": [],
   "source": [
    "from transformers import AutoTokenizer\n",
    "\n",
    "# Load the tokenizer\n",
    "tokenizer = AutoTokenizer.from_pretrained(model_string)\n",
    "\n",
    "# Simple template function\n",
    "def template(user_prompt: str, system_prompt: str=\"You analyze reviews of a product and help analysts understand the user experience.\"):\n",
    "    return tokenizer.apply_chat_template(\n",
    "        [{\"role\": \"system\", \"content\": system_prompt}, {\"role\": \"user\", \"content\": user_prompt}],\n",
    "        tokenize=False,\n",
    "        truncation=True,\n",
    "        add_bos_token=True,\n",
    "        add_generation_prompt=True\n",
    "    )\n",
    "\n",
    "print(template(\"Hello\"))"
   ]
  },
  {
   "cell_type": "markdown",
   "metadata": {},
   "source": [
    "Note the `<|im_start|>system`, `<|im_start|>user`, and `<|im_end|>` tokens. These are the system prompt and user prompt tokens. \n",
    "\n",
    "We insert a trailing `<|im_start|>assistant` token to indicate the beginning of the assistant prompt. This can help the model understand that it is responding to the prompt. Not including this token can cause unpredictable results."
   ]
  },
  {
   "cell_type": "markdown",
   "metadata": {},
   "source": [
    "Let's compare the two outputs. We'll use the unstructured text generator to compare the two outputs. A `generator` is a function that takes a prompt and returns language model output. To return structured data, we typically construct the generator with `outlines.generate.json`. You may also use `outlines.generate.text` to return unstructured text.\n",
    "\n",
    "Here is how to initialize the unstructured text generator:"
   ]
  },
  {
   "cell_type": "code",
   "execution_count": null,
   "metadata": {},
   "outputs": [],
   "source": [
    "# Generator function to produce arbitrary responses\n",
    "generator = outlines.generate.text(llm)"
   ]
  },
  {
   "cell_type": "markdown",
   "metadata": {},
   "source": [
    "Here is the result with and without the chat template tokens:"
   ]
  },
  {
   "cell_type": "code",
   "execution_count": null,
   "metadata": {},
   "outputs": [],
   "source": [
    "print(\"Without chat template tokens:\")\n",
    "output = generator(\"Hello\", max_tokens=10)\n",
    "# print(\"\\nWith chat template tokens:\")\n",
    "# print(generator(template(\"Hello\")))"
   ]
  },
  {
   "cell_type": "markdown",
   "metadata": {},
   "source": [
    "Note that the untemplated response is confusing and nonsensical. The templated response is consistent with our general experience of talking to chatbots and other instruction-tuned models."
   ]
  },
  {
   "cell_type": "markdown",
   "metadata": {},
   "source": [
    "## Using Outlines to extract structured data with a language model\n",
    "\n",
    "The next part is to choose a few pieces of structured data that we would like to extract from the reviews.\n",
    "\n",
    "We typically define the structure of the data we want to extract by defining a Pydantic class. Pydantic is a library that allows us to define strongly-typed data structures.\n",
    "\n",
    "Outlines will force the language model to output data in the format you specify -- think of it as defining a \"shape\" of the response, and then allowing the model to fill in the details.\n",
    "\n",
    "Let's take a look at a review."
   ]
  },
  {
   "cell_type": "code",
   "execution_count": null,
   "metadata": {},
   "outputs": [],
   "source": [
    "print(reviews[2])"
   ]
  },
  {
   "cell_type": "markdown",
   "metadata": {},
   "source": [
    "Great -- spot checking this, it seems to be about prices. Our vector search worked well!\n",
    "\n",
    "Let's define the data we want to extract from the reviews. I've chosen to choose a few categories that I think are important to understand the users' experience with the product.\n",
    "\n",
    "- Customer service\n",
    "- Gameplay\n",
    "- Bugs\n",
    "- Performance\n",
    "- Price value\n",
    "\n",
    "For each category, we'll want to extract a sentiment. We'll use a `Literal` type to indicate that the sentiment must be one of the three options: `positive`, `negative`, or `neutral`. The model __must__ return a sentiment for each category."
   ]
  },
  {
   "cell_type": "code",
   "execution_count": null,
   "metadata": {},
   "outputs": [],
   "source": [
    "from pydantic import BaseModel\n",
    "from typing import Literal\n",
    "\n",
    "class FeedbackItem(BaseModel):\n",
    "    sentiment: Literal['positive', 'negative', 'neutral', 'unclear']\n",
    "    comments: str\n",
    "\n",
    "class Review(BaseModel):\n",
    "    # Feedback items\n",
    "    customer_service: FeedbackItem\n",
    "    gameplay: FeedbackItem\n",
    "    bugs: FeedbackItem\n",
    "    performance: FeedbackItem\n",
    "    price_value: FeedbackItem\n",
    "    feedback_summary: str\n",
    "\n",
    "    def __str__(self):\n",
    "        lines = []\n",
    "        # Iterate through the field names directly\n",
    "        for field_name in self.model_fields.keys():\n",
    "            if getattr(self, field_name) is not None:\n",
    "                lines.append(f\"{field_name}: {getattr(self, field_name)}\")\n",
    "        return \"\\n\".join(lines)\n",
    "\n",
    "    "
   ]
  },
  {
   "cell_type": "markdown",
   "metadata": {},
   "source": [
    "We have the structure we want to extract, so let's create the generator. \n",
    "\n",
    "`outlines.generate.json` is a generator that takes a prompt and returns a structured response.\n",
    "\n",
    "In this case, we know that the result of the generator will be a `Review` object."
   ]
  },
  {
   "cell_type": "code",
   "execution_count": null,
   "metadata": {},
   "outputs": [],
   "source": [
    "# This function will take an arbitrary review string and\n",
    "# return a structured `Review` object.\n",
    "review_generator = outlines.generate.json(llm, Review)"
   ]
  },
  {
   "cell_type": "markdown",
   "metadata": {},
   "source": [
    "We can test what it looks like with random input:"
   ]
  },
  {
   "cell_type": "code",
   "execution_count": null,
   "metadata": {},
   "outputs": [],
   "source": [
    "review_generator(\"This is a great game!\")"
   ]
  },
  {
   "cell_type": "markdown",
   "metadata": {},
   "source": [
    "Great. Next, we need to prompt our model, as you would in any language model context.\n",
    "\n",
    "Note! You still have to provide good prompts. Structured generation is not a magic bullet. You will always get the structure you specify, but good prompting will improve the quality of the output."
   ]
  },
  {
   "cell_type": "code",
   "execution_count": null,
   "metadata": {},
   "outputs": [],
   "source": [
    "def review_prompt(question: str, reviews: str):\n",
    "    return template(f\"\"\"\n",
    "    Please see a list of reviews of a product. Provide information to an analyst\n",
    "    analyzing the product reviews.\n",
    "                    \n",
    "    The analyst is trying to answer the question: {question}\n",
    "                    \n",
    "    The analyst is interested in understanding the user experience with the product.\n",
    "\n",
    "    For the reviews, extract sentiments and comments across the following categories:\n",
    "\n",
    "    - customer_service\n",
    "    - gameplay\n",
    "    - bugs\n",
    "    - performance\n",
    "    - price_value\n",
    "\n",
    "    Comments should be a single sentence that summarizes the user's experience with the product.\n",
    "    These are comments for the analyst, not the users.\n",
    "\n",
    "    Sentiments must be one of the following:\n",
    "\n",
    "    - positive (the users said something positive about the category)\n",
    "    - negative (the users said something negative about the category)\n",
    "    - neutral (the users seemed balanced about the category)\n",
    "    - unclear (the users did not mention the category)\n",
    "\n",
    "    For example, if the users enjoyed the customer service but the \n",
    "    game was buggy, the categories would be [customer_service, bugs] and the\n",
    "    sentiments would be [positive, negative]. \n",
    "\n",
    "    Lastly, provide a summary of the feedback for the product.\n",
    "\n",
    "    Respond in JSON format, following the schema: {Review.model_json_schema()}\n",
    "\n",
    "    # Begin review\n",
    "\n",
    "    {reviews}\n",
    "    \"\"\")"
   ]
  },
  {
   "cell_type": "markdown",
   "metadata": {},
   "source": [
    "The function `review_prompt` takes a review and returns a chat-templated prompt for the language model.\n",
    "\n",
    "We can now use the `review_generator` to generate structured data from the reviews. This is where the language model is used -- it can be slow depending on your hardware. If you need to speed it up, you can reduce the number of reviews returned by the vector search (the `limit` keyword) earlier in the lesson."
   ]
  },
  {
   "cell_type": "code",
   "execution_count": null,
   "metadata": {},
   "outputs": [],
   "source": [
    "# Generate structured data from the reviews\n",
    "reviews_all = \"\\n\\n\".join(reviews)\n",
    "review_result = review_generator(review_prompt(reviews_all, question))"
   ]
  },
  {
   "cell_type": "markdown",
   "metadata": {},
   "source": [
    "What do the results look like? Let's see!"
   ]
  },
  {
   "cell_type": "code",
   "execution_count": null,
   "metadata": {},
   "outputs": [],
   "source": [
    "# Print the first result\n",
    "print(review_result)"
   ]
  },
  {
   "cell_type": "markdown",
   "metadata": {},
   "source": [
    "The model flagged a generally positive review. Notice that the model flagged too much information as positive -- the review was only about price and customer service, but the model flagged the entire review as positive. This is a good example of language models not solving all your problems! You need to prompt the model, perform evaluations, and look at your data. Larger models tend to be more accurate if you notice poor output quality.\n",
    "\n",
    "Now we can start to analyze the results. "
   ]
  },
  {
   "cell_type": "code",
   "execution_count": null,
   "metadata": {},
   "outputs": [],
   "source": [
    "def analyze_product(question: str, product_title: str):\n",
    "    search_results = client.search(\n",
    "        collection_name=\"demo_collection\",\n",
    "        data=query_embeddings,\n",
    "        limit=50,\n",
    "        # Let's limit the search to Minecraft for now\n",
    "        filter=f\"product_title == '{product_title}'\",\n",
    "        output_fields=[\n",
    "            \"text\", \n",
    "            \"product_title\", \n",
    "            \"parent_asin\", \n",
    "            \"asin\", \n",
    "            \"rating\", \n",
    "            \"timestamp\", \n",
    "            \"helpful_vote\", \n",
    "            \"verified_purchase\", \n",
    "            \"user_id\", \n",
    "            \"review_title\",\n",
    "            'id'\n",
    "        ],\n",
    "    )\n",
    "\n",
    "    # Review text\n",
    "    all_review_texts = [doc['entity']['text'] for doc in search_results[0]] \n",
    "\n",
    "    # Generate structured data from the reviews\n",
    "    reviews_all = \"\\n\\n\".join(all_review_texts)\n",
    "    review_result = review_generator(review_prompt(reviews_all, question))\n",
    "\n",
    "    return review_result\n",
    "\n",
    "print(analyze_product(\"What do people think about the price of Minecraft?\", \"Minecraft\"))"
   ]
  },
  {
   "cell_type": "markdown",
   "metadata": {},
   "source": [
    "###################\n",
    "####################3"
   ]
  },
  {
   "cell_type": "code",
   "execution_count": null,
   "metadata": {},
   "outputs": [],
   "source": [
    "# Summarize the results.\n",
    "# Want to have sentiment counts by category.\n",
    "import pandas as pd\n",
    "\n",
    "# Iterate through the sentiment results\n",
    "rows = []\n",
    "for (llm_result, database_result) in zip(review_result, res[0]):\n",
    "\n",
    "    # Converts the Pydantic model to a dictionary\n",
    "    rdict = llm_result.model_dump()\n",
    "\n",
    "\n",
    "    # Iterate through the dictionary\n",
    "    for (k, v) in rdict.items():\n",
    "        # Iterate through the dictionary\n",
    "        row = {\n",
    "            'timestamp': database_result['entity']['timestamp'],\n",
    "            'user_id': database_result['entity']['user_id'],\n",
    "            'product_title': database_result['entity']['product_title'],\n",
    "            'id': database_result['entity']['id'],\n",
    "            'processed_text': database_result['entity']['text'],\n",
    "            'category': k,\n",
    "            'sentiment': v['sentiment']\n",
    "        }\n",
    "\n",
    "        # Add the row to the list\n",
    "        rows.append(row)\n",
    "\n",
    "# Pack the results into a dataframe\n",
    "df = pd.DataFrame(rows)\n",
    "\n",
    "# Convert the timestamp to a datetime object for easier analysis\n",
    "df['timestamp'] = pd.to_datetime(df['timestamp'])\n",
    "\n",
    "df.head()"
   ]
  },
  {
   "cell_type": "markdown",
   "metadata": {},
   "source": [
    "We can use this dataframe as we might in any other data analysis project. For example, we can count the number of positive and negative sentiments for each category and product."
   ]
  },
  {
   "cell_type": "code",
   "execution_count": null,
   "metadata": {},
   "outputs": [],
   "source": [
    "# General overview by product\n",
    "df.groupby(['product_title', 'category', 'sentiment']).size().unstack().fillna(0)"
   ]
  },
  {
   "cell_type": "markdown",
   "metadata": {},
   "source": [
    "Or, we can look at the percentage of positive feedback for each product. This can be biased by the question you ask of the database, so be careful!"
   ]
  },
  {
   "cell_type": "code",
   "execution_count": null,
   "metadata": {},
   "outputs": [],
   "source": [
    "# Calculate the percentage of positive feedback for each product\n",
    "df.groupby(['product_title', 'sentiment']).size().unstack().apply(lambda x: x['positive'] / (x['positive'] + x['negative']), axis=1)\n"
   ]
  },
  {
   "cell_type": "markdown",
   "metadata": {},
   "source": [
    "What does the data look like when we visualize it? Suppose we want to visualize total sentiment across categories."
   ]
  },
  {
   "cell_type": "code",
   "execution_count": null,
   "metadata": {},
   "outputs": [],
   "source": [
    "# Visualize the results\n",
    "df.groupby(['category', 'sentiment']).size().unstack().plot(kind='bar', stacked=True)\n"
   ]
  },
  {
   "cell_type": "markdown",
   "metadata": {},
   "source": [
    "We can also calculate the percentage of positive sentiment by category and product, to focus a little more on which products are doing well."
   ]
  },
  {
   "cell_type": "code",
   "execution_count": null,
   "metadata": {},
   "outputs": [],
   "source": [
    "# Calculate percentage of positive sentiment by category and product\n",
    "sentiment_by_groups = df.groupby(['category', 'product_title'])['sentiment'].agg(\n",
    "    total_reviews=('count'),\n",
    "    positive_sentiment=lambda x: (x == 'positive').mean(),\n",
    ").reset_index().sort_values('product_title', ascending=False)\n",
    "\n",
    "# Plot as a grouped bar chart\n",
    "plt.figure(figsize=(15, 8))\n",
    "categories = sentiment_by_groups['category'].unique()\n",
    "x = np.arange(len(categories))\n",
    "width = 0.2  # Width of bars\n",
    "\n",
    "# Create bars for each product\n",
    "for i, product in enumerate(sentiment_by_groups['product_title'].unique()):\n",
    "    product_data = sentiment_by_groups[sentiment_by_groups['product_title'] == product]\n",
    "    plt.bar(\n",
    "        x + (i * width),  # Offset each product's bars\n",
    "        product_data['positive_sentiment'],\n",
    "        width,\n",
    "        label=product\n",
    "    )\n",
    "\n",
    "plt.xlabel('Category')\n",
    "plt.ylabel('Positive Sentiment (%)')\n",
    "plt.title('Positive Sentiment by Category and Product')\n",
    "plt.xticks(x + width, categories, rotation=45)\n",
    "plt.legend(bbox_to_anchor=(1.05, 1), loc='upper left')\n",
    "plt.tight_layout()\n",
    "plt.show()\n",
    "\n",
    "# # Also display the numerical results\n",
    "# print(\"\\nDetailed Sentiment Analysis:\")\n",
    "# print(sentiment_by_groups.sort_values(['category', 'positive_percentage'], ascending=[True, False]))"
   ]
  },
  {
   "cell_type": "markdown",
   "metadata": {},
   "source": [
    "We can also visualize the data in the embedding space. This is a good way to what the data looks like in a high-dimensional space. We're using the same technique (principal component analysis) as we did in the vector search section."
   ]
  },
  {
   "cell_type": "code",
   "execution_count": null,
   "metadata": {},
   "outputs": [],
   "source": [
    "from sklearn.decomposition import PCA\n",
    "import matplotlib.pyplot as plt\n",
    "import numpy as np\n",
    "\n",
    "# Create PCA\n",
    "pca = PCA(n_components=2)\n",
    "transformed = pca.fit_transform(vectors)\n",
    "\n",
    "# Create color map\n",
    "unique_products = videogames['product_title'].unique()\n",
    "colors = plt.cm.rainbow(np.linspace(0, 1, len(unique_products)))\n",
    "color_dict = dict(zip(unique_products, colors))\n",
    "\n",
    "# Create scatter plot\n",
    "plt.figure(figsize=(10, 6))\n",
    "for product in unique_products:\n",
    "    mask = videogames['product_title'] == product\n",
    "    plt.scatter(\n",
    "        transformed[mask, 0], \n",
    "        transformed[mask, 1],\n",
    "        label=product,\n",
    "        alpha=0.6\n",
    "    )\n",
    "\n",
    "# Add the query vector\n",
    "reshaped_query = np.array(query_embeddings[0]).reshape(1, -1)\n",
    "transformed_query = pca.transform(reshaped_query)[0]\n",
    "\n",
    "plt.scatter(\n",
    "    transformed_query[0], \n",
    "    transformed_query[1],\n",
    "    label='Query',\n",
    "    color='red',\n",
    "    marker='x'\n",
    ")\n",
    "\n",
    "plt.legend(bbox_to_anchor=(1.05, 1), loc='upper left')\n",
    "plt.title('PCA of Game Reviews by Product')\n",
    "plt.tight_layout()\n",
    "plt.show()"
   ]
  },
  {
   "cell_type": "code",
   "execution_count": null,
   "metadata": {},
   "outputs": [],
   "source": [
    "from sklearn.decomposition import PCA\n",
    "import matplotlib.pyplot as plt\n",
    "import numpy as np\n",
    "\n",
    "# Get the IDs from the search results\n",
    "result_ids = [doc['entity']['id'] for doc in res[0]]\n",
    "\n",
    "# Extract vectors for only the search results\n",
    "result_vectors = vectors[result_ids]\n",
    "\n",
    "# Create PCA\n",
    "pca = PCA(n_components=2)\n",
    "transformed = pca.fit_transform(result_vectors)\n",
    "\n",
    "# Get product titles for the results\n",
    "result_products = [doc['entity']['product_title'] for doc in res[0]]\n",
    "\n",
    "# Create color map\n",
    "unique_products = np.unique(result_products)\n",
    "colors = plt.cm.rainbow(np.linspace(0, 1, len(unique_products)))\n",
    "color_dict = dict(zip(unique_products, colors))\n",
    "\n",
    "# Create scatter plot\n",
    "plt.figure(figsize=(10, 6))\n",
    "for product in unique_products:\n",
    "    mask = np.array(result_products) == product\n",
    "    plt.scatter(\n",
    "        transformed[mask, 0], \n",
    "        transformed[mask, 1],\n",
    "        label=product,\n",
    "        alpha=0.6,\n",
    "        color=color_dict[product]\n",
    "    )\n",
    "\n",
    "# Add the query vector\n",
    "reshaped_query = np.array(query_embeddings[0]).reshape(1, -1)\n",
    "transformed_query = pca.transform(reshaped_query)[0]\n",
    "plt.scatter(\n",
    "    transformed_query[0], \n",
    "    transformed_query[1],\n",
    "    label='Query',\n",
    "    color='red',\n",
    "    marker='x',\n",
    "    s=100  # Make the X larger\n",
    ")\n",
    "\n",
    "plt.legend(bbox_to_anchor=(1.05, 1), loc='upper left')\n",
    "plt.title('PCA of Retrieved Game Reviews by Product')\n",
    "plt.tight_layout()\n",
    "plt.show()"
   ]
  },
  {
   "cell_type": "markdown",
   "metadata": {},
   "source": [
    "## Structuring every data point\n",
    "\n",
    "The RAG approach outlined above is designed for very large datasets where structuring output is computationally expensive. We performed RAG to find a subsample of the data and then produced some structured output.\n",
    "\n",
    "However, If you have the resources, there is a more robust approach.\n",
    "\n",
    "You can add sentiment and feedback items to each review in your dataset (in this case, possibly millions of reviews). Structuring reviews as you put them into the database can help you perform analysis using more standard data analysis tools through database queries or standard statistical tools.\n",
    "\n",
    "Outlines is a good tool for this, but you can also use a structured generation provider like OpenAI.\n",
    "\n",
    "# Conclusion\n",
    "\n",
    "In this lesson, we've covered how to use RAG to search for product reviews relevant to a question and then generate structured data from the reviews. We've also covered how to use Outlines to generate structured data from the reviews.\n",
    "\n",
    "I hope you found this lesson useful! If you have any questions, please feel free to reach out to me on [LinkedIn](https://www.linkedin.com/in/cameron-pfiffer/).\n"
   ]
  }
 ],
 "metadata": {
  "kernelspec": {
   "display_name": "Python 3 (ipykernel)",
   "language": "python",
   "name": "python3"
  },
  "language_info": {
   "codemirror_mode": {
    "name": "ipython",
    "version": 3
   },
   "file_extension": ".py",
   "mimetype": "text/x-python",
   "name": "python",
   "nbconvert_exporter": "python",
   "pygments_lexer": "ipython3",
   "version": "3.10.12"
  }
 },
 "nbformat": 4,
 "nbformat_minor": 4
}
