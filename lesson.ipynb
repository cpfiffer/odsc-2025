{
 "cells": [
  {
   "cell_type": "markdown",
   "metadata": {},
   "source": [
    "# ODSC 2025 RAG + Structured Generation with Outlines\n",
    "\n",
    "In this lesson, we'll be covering how to use Retrieval-Augmented Generation (RAG) to search for product reviews relevant to a question and then generate structured data from the reviews. We'll have well-structured data at the end that we can use for later analysis.\n",
    "\n",
    "At the end of this lesson, you'll be able to:\n",
    "\n",
    "- Use RAG (via [Milvus](https://milvus.io/)) to search for product reviews relevant to a question\n",
    "- Use LLMs and [Outlines](https://github.com/dottxt-ai/outlines) to generate structured data from the reviews to understand sentiment for various categories\n",
    "- Visualize the results using PCA\n",
    "\n",
    "The lesson is structured as follows:\n",
    "\n",
    "1. Load the dataset\n",
    "2. Preprocess the data\n",
    "3. Set up the vector database for RAG\n",
    "4. Use LLMs and Outlines to generate structured data from the reviews\n",
    "5. Visualize the results using PCA\n",
    "\n",
    "## Definitions\n",
    "\n",
    "Before we get started, let's define a few terms. Some of you may not be familiar with all of these terms, but that's okay! We'll be using them throughout the lesson.\n",
    "\n",
    "### Retrieval-augmented generation (RAG)\n",
    "\n",
    "RAG stands for retrieval-augmented generation. It's a technique that allows us to use a large language model (LLM) to generate text that is relevant to a specific question. For example, we can use RAG to search for product reviews that are relevant to a question like \"How do people feel about our prices?\".\n",
    "\n",
    "RAG is a good way to find text that is \"similar\" to a question, and placing it into a language model's context window so that the model can use it to generate a response.\n",
    "\n",
    "### Outlines + structured generation\n",
    "\n",
    "Outlines is an open-source framework for structured generation. Structured generation is a technique that allows us to use a large language model (LLM) to generate text that is structured in a specific way. For example, we can use structured generation to generate a list of categories that a user's experience falls into and provide a sentiment for each category.\n",
    "\n",
    "[DIAGRAM HERE]\n",
    "\n",
    "## Setup\n",
    "\n",
    "You will need to install the following packages:\n",
    "\n",
    "```bash\n",
    "pip install \"pymilvus[model]\" \"outlines[transformers]\" datasets sentence-transformers scikit-learn matplotlib pandas einops sentencepiece\n",
    "```\n",
    "\n",
    "You may also install the package from the `requirements.txt` file in the repository:\n",
    "\n",
    "```bash\n",
    "pip install -r requirements.txt\n",
    "```\n"
   ]
  },
  {
   "cell_type": "markdown",
   "metadata": {},
   "source": [
    "## Configuration\n",
    "\n",
    "The following variables can be set to configure the lesson, depending on your hardware. \n",
    "\n",
    "- `sample_size`: the number of reviews to use for the lesson. If you have a GPU, you can set this to a higher number.\n",
    "- `overwrite_data`: if True, `embeddings.npz` and `videogames.csv` will be overwritten. I recommend setting this to `False`, as you will have to recompute embeddings.\n",
    "- `device`: the device to use for the lesson. If you have a GPU, you can set this to `cuda`. If you have an Apple Silicon GPU, you can set this to `mps`. If you don't have a GPU, you can set this to `cpu`.\n"
   ]
  },
  {
   "cell_type": "code",
   "execution_count": 1,
   "metadata": {},
   "outputs": [],
   "source": [
    "# Configuration\n",
    "sample_size = None # to use the full dataset, set this to None. Be warned! This will take a long time to run.\n",
    "overwrite_data = False # if True, embeddings.npz and videogames.csv will be overwritten\n",
    "device = 'auto' # 'mps' or 'cpu' or 'auto'\n",
    "\n",
    "# If overwrite_data is True, make a backup of the database and the embeddings before running the code.\n",
    "if overwrite_data:\n",
    "    import shutil\n",
    "    shutil.copy(\"product-reviews.db\", \"product-reviews-backup.db\")\n",
    "    shutil.copy(\"embeddings.npz\", \"embeddings-backup.npz\")\n"
   ]
  },
  {
   "cell_type": "markdown",
   "metadata": {},
   "source": [
    "\n",
    "## Load the dataset\n",
    "\n",
    "We'll be working with a dataset of Amazon reviews for video games, provided by the [McAuley Lab](https://cseweb.ucsd.edu/~jmcauley/).\n",
    "\n",
    "The dataset is available on [Hugging Face](https://huggingface.co/datasets/McAuley-Lab/Amazon-Reviews-2023).\n",
    "\n",
    "We'll load the dataset using the `datasets` library. It may take a few seconds to download, so please be sure to start it early. It took me about 1.5 minutes to download the dataset."
   ]
  },
  {
   "cell_type": "code",
   "execution_count": 2,
   "metadata": {},
   "outputs": [],
   "source": [
    "if overwrite_data:\n",
    "    from datasets import load_dataset\n",
    "\n",
    "    dataset = load_dataset(\n",
    "        \"McAuley-Lab/Amazon-Reviews-2023\", \n",
    "        \"raw_review_Video_Games\", \n",
    "        trust_remote_code=True,\n",
    "        cache_dir=\"cache\",\n",
    "        split=\"full\"\n",
    "    )\n",
    "    df = dataset.to_pandas()\n",
    "\n",
    "    # Change the title column to be the \"review_title\" column\n",
    "    df.rename(columns={'title': 'review_title'}, inplace=True)"
   ]
  },
  {
   "cell_type": "markdown",
   "metadata": {},
   "source": [
    "Next, we need to download the metadata for the dataset. This metadata contains information about the product, such as the product title, description, and other attributes. We primarily need the product title.\n",
    "\n",
    "Downloading the metadata may take 30-60 seconds."
   ]
  },
  {
   "cell_type": "code",
   "execution_count": 3,
   "metadata": {},
   "outputs": [],
   "source": [
    "if overwrite_data:\n",
    "    meta_dataset = load_dataset(\n",
    "        \"McAuley-Lab/Amazon-Reviews-2023\", \n",
    "        \"raw_meta_Video_Games\", \n",
    "        trust_remote_code=True,\n",
    "        cache_dir=\"cache\",\n",
    "        split=\"full\"\n",
    "    )\n",
    "\n",
    "    meta_df = meta_dataset.to_pandas()\n",
    "\n",
    "    # Change the title column to be the \"product_title\" column\n",
    "    meta_df.rename(columns={'title': 'product_title'}, inplace=True)\n"
   ]
  },
  {
   "cell_type": "markdown",
   "metadata": {},
   "source": [
    "Next, we need to join the two datasets on the `parent_asin` column. This will allow us to get the product title for each review.\n",
    "\n",
    "`parent_asin` is the product ID for the product that the review is for. Some products on Amazon have multiple versions (`asin`), so the `parent_asin` is the same for all versions of the product."
   ]
  },
  {
   "cell_type": "code",
   "execution_count": 4,
   "metadata": {},
   "outputs": [],
   "source": [
    "import pandas as pd\n",
    "\n",
    "if overwrite_data:\n",
    "    # Join the two datasets on the parent_asin column\n",
    "    joined_df = df.merge(meta_df, on='parent_asin', how='inner')"
   ]
  },
  {
   "cell_type": "markdown",
   "metadata": {},
   "source": [
    "That's a lot of data! Let's try and find a few products that we can work with more easily."
   ]
  },
  {
   "cell_type": "code",
   "execution_count": 5,
   "metadata": {},
   "outputs": [],
   "source": [
    "if overwrite_data:\n",
    "    # Count products \n",
    "    print(joined_df.groupby(['parent_asin', 'product_title']).size().sort_values(ascending=False).head(50))\n"
   ]
  },
  {
   "cell_type": "markdown",
   "metadata": {},
   "source": [
    "I've selected a few games that I think will be interesting to work with, as most people have likely heard the name. These games are also well reviewed on Amazon.\n",
    "\n",
    "- Minecraft `B00BU3ZLJQ`\n",
    "- The Legend of Zelda: Breath of the Wild `B087NNPYP3`\n",
    "- Assassin's Creed IV: Black Flag `B00BN5T30E`\n",
    "- The Elder Scrolls V: Skyrim (Playstation 4) `B07YBXFDYN`\n",
    "\n",
    "I also add some timestamp parsing tools to make it easier to work with the data."
   ]
  },
  {
   "cell_type": "code",
   "execution_count": 6,
   "metadata": {},
   "outputs": [
    {
     "name": "stderr",
     "output_type": "stream",
     "text": [
      "/tmp/ipykernel_83575/2942070065.py:26: FutureWarning: Setting an item of incompatible dtype is deprecated and will raise in a future error of pandas. Value '['2016-12-18T02:56:36Z' '2016-12-25T16:13:30Z' '2017-03-16T06:39:04Z' ...\n",
      " '2014-07-02T00:53:26Z' '2011-12-30T00:14:48Z' '2014-11-29T18:39:39Z']' has dtype incompatible with int64, please explicitly cast to a compatible dtype first.\n",
      "  videogames.loc[:, 'timestamp'] = videogames['timestamp'].astype(int).map(lambda x: datetime.fromtimestamp(x/1000, tz=timezone.utc).strftime('%Y-%m-%dT%H:%M:%SZ'))\n"
     ]
    }
   ],
   "source": [
    "# Add date parsing tools\n",
    "from datetime import datetime, timezone\n",
    "\n",
    "if overwrite_data:\n",
    "    # Filter the dataset to only include the selected games\n",
    "    videogames = joined_df[joined_df['parent_asin'].isin(['B00BU3ZLJQ', 'B087NNPYP3', 'B00BN5T30E', 'B07YBXFDYN'])]\n",
    "\n",
    "    # Select only the columns we need\n",
    "    columns = ['parent_asin', 'product_title', 'review_title', 'text', 'rating', 'timestamp', 'user_id']\n",
    "    videogames = videogames[columns]\n",
    "\n",
    "    # Remove rows where either review_title or text is NaN/null\n",
    "    videogames = videogames.dropna(subset=['review_title', 'text'])\n",
    "    \n",
    "    if overwrite_data:\n",
    "        videogames.to_csv(\"videogames.csv\", index=True)\n",
    "else:\n",
    "    videogames = pd.read_csv(\"videogames.csv\", index_col=0)\n",
    "\n",
    "    # Remove rows where either review_title or text is NaN/null\n",
    "    videogames = videogames.dropna(subset=['review_title', 'text'])\n",
    "\n",
    "    \n",
    "\n",
    "# Parse the timestamp column from unix time to a datetime object\n",
    "videogames.loc[:, 'timestamp'] = videogames['timestamp'].astype(int).map(lambda x: datetime.fromtimestamp(x/1000, tz=timezone.utc).strftime('%Y-%m-%dT%H:%M:%SZ'))"
   ]
  },
  {
   "cell_type": "markdown",
   "metadata": {},
   "source": [
    "RAG and structured generation are both computationally expensive operations, so we'll want to keep the dataset small for exploration purposes. We have to calculate an [embedding](https://platform.openai.com/docs/guides/embeddings) for each review, so we'll want to keep the dataset small to avoid having to wait too long for results.\n",
    "\n",
    "This is still a relatively large dataset. If you have not downloaded the prepared dataset, you can set the sample size to 100-200 to keep the computation time manageable. If you have a GPU, you can increase the sample rate."
   ]
  },
  {
   "cell_type": "code",
   "execution_count": 7,
   "metadata": {},
   "outputs": [],
   "source": [
    "\n",
    "# Downsample the dataset if sample_size is set\n",
    "if sample_size is not None:\n",
    "    videogames = videogames.sample(n=sample_size, random_state=42)\n"
   ]
  },
  {
   "cell_type": "markdown",
   "metadata": {},
   "source": [
    "Great! Now we have a dataset of reviews for 4 games. Let's take a look."
   ]
  },
  {
   "cell_type": "code",
   "execution_count": 8,
   "metadata": {},
   "outputs": [
    {
     "data": {
      "text/html": [
       "<div>\n",
       "<style scoped>\n",
       "    .dataframe tbody tr th:only-of-type {\n",
       "        vertical-align: middle;\n",
       "    }\n",
       "\n",
       "    .dataframe tbody tr th {\n",
       "        vertical-align: top;\n",
       "    }\n",
       "\n",
       "    .dataframe thead th {\n",
       "        text-align: right;\n",
       "    }\n",
       "</style>\n",
       "<table border=\"1\" class=\"dataframe\">\n",
       "  <thead>\n",
       "    <tr style=\"text-align: right;\">\n",
       "      <th></th>\n",
       "      <th>parent_asin</th>\n",
       "      <th>product_title</th>\n",
       "      <th>review_title</th>\n",
       "      <th>text</th>\n",
       "      <th>rating</th>\n",
       "      <th>timestamp</th>\n",
       "      <th>user_id</th>\n",
       "    </tr>\n",
       "  </thead>\n",
       "  <tbody>\n",
       "    <tr>\n",
       "      <th>366</th>\n",
       "      <td>B00BN5T30E</td>\n",
       "      <td>Assassin's Creed IV Black Flag - PC</td>\n",
       "      <td>Five Stars</td>\n",
       "      <td>Great Game</td>\n",
       "      <td>5.0</td>\n",
       "      <td>2016-12-18T02:56:36Z</td>\n",
       "      <td>AFEJ2MZWR7O64X2S3ZI2J7BFKTYA</td>\n",
       "    </tr>\n",
       "    <tr>\n",
       "      <th>1018</th>\n",
       "      <td>B07YBXFDYN</td>\n",
       "      <td>Skyrim VR - PlayStation 4</td>\n",
       "      <td>Legendary</td>\n",
       "      <td>The BEEST game anyone could ever buy. Literall...</td>\n",
       "      <td>5.0</td>\n",
       "      <td>2016-12-25T16:13:30Z</td>\n",
       "      <td>AG6OZNFZE6P52PW2PA5WF2IAHKLA</td>\n",
       "    </tr>\n",
       "    <tr>\n",
       "      <th>1079</th>\n",
       "      <td>B07YBXFDYN</td>\n",
       "      <td>Skyrim VR - PlayStation 4</td>\n",
       "      <td>Five Stars</td>\n",
       "      <td>My son likes this</td>\n",
       "      <td>5.0</td>\n",
       "      <td>2017-03-16T06:39:04Z</td>\n",
       "      <td>AEUECZFYVQCQ7OFZ2SQWYAP64GJA</td>\n",
       "    </tr>\n",
       "    <tr>\n",
       "      <th>1174</th>\n",
       "      <td>B087NNPYP3</td>\n",
       "      <td>The Legend of Zelda: Breath of the Wild Master...</td>\n",
       "      <td>Must buy for switch</td>\n",
       "      <td>My main reason for buying a switch. And with a...</td>\n",
       "      <td>5.0</td>\n",
       "      <td>2019-09-26T17:31:08Z</td>\n",
       "      <td>AFWRGOGF4AI2IHRX7KZ2IYL63RXA</td>\n",
       "    </tr>\n",
       "    <tr>\n",
       "      <th>1363</th>\n",
       "      <td>B087NNPYP3</td>\n",
       "      <td>The Legend of Zelda: Breath of the Wild Master...</td>\n",
       "      <td>The promise of additional content for a tremen...</td>\n",
       "      <td>I recently purchased the &amp;#34;The Legend of Ze...</td>\n",
       "      <td>5.0</td>\n",
       "      <td>2017-04-04T04:44:38Z</td>\n",
       "      <td>AHTBBASAHXHHOXKLSSZG2IPUDDFA</td>\n",
       "    </tr>\n",
       "  </tbody>\n",
       "</table>\n",
       "</div>"
      ],
      "text/plain": [
       "     parent_asin                                      product_title  \\\n",
       "366   B00BN5T30E                Assassin's Creed IV Black Flag - PC   \n",
       "1018  B07YBXFDYN                          Skyrim VR - PlayStation 4   \n",
       "1079  B07YBXFDYN                          Skyrim VR - PlayStation 4   \n",
       "1174  B087NNPYP3  The Legend of Zelda: Breath of the Wild Master...   \n",
       "1363  B087NNPYP3  The Legend of Zelda: Breath of the Wild Master...   \n",
       "\n",
       "                                           review_title  \\\n",
       "366                                          Five Stars   \n",
       "1018                                          Legendary   \n",
       "1079                                         Five Stars   \n",
       "1174                                Must buy for switch   \n",
       "1363  The promise of additional content for a tremen...   \n",
       "\n",
       "                                                   text  rating  \\\n",
       "366                                          Great Game     5.0   \n",
       "1018  The BEEST game anyone could ever buy. Literall...     5.0   \n",
       "1079                                  My son likes this     5.0   \n",
       "1174  My main reason for buying a switch. And with a...     5.0   \n",
       "1363  I recently purchased the &#34;The Legend of Ze...     5.0   \n",
       "\n",
       "                 timestamp                       user_id  \n",
       "366   2016-12-18T02:56:36Z  AFEJ2MZWR7O64X2S3ZI2J7BFKTYA  \n",
       "1018  2016-12-25T16:13:30Z  AG6OZNFZE6P52PW2PA5WF2IAHKLA  \n",
       "1079  2017-03-16T06:39:04Z  AEUECZFYVQCQ7OFZ2SQWYAP64GJA  \n",
       "1174  2019-09-26T17:31:08Z  AFWRGOGF4AI2IHRX7KZ2IYL63RXA  \n",
       "1363  2017-04-04T04:44:38Z  AHTBBASAHXHHOXKLSSZG2IPUDDFA  "
      ]
     },
     "execution_count": 8,
     "metadata": {},
     "output_type": "execute_result"
    }
   ],
   "source": [
    "videogames.head()"
   ]
  },
  {
   "cell_type": "markdown",
   "metadata": {},
   "source": [
    "## Quick primer on embeddings\n",
    "\n",
    "Embeddings are a way to represent text as a vector of numbers. This vector of numbers communicates the __meaning__ of the text to the embedding model -- for example, the embeddings for \"cat\" and \"dog\" are close to each other in the embedding space, while the embeddings for \"cat\" and \"car\" are far apart.\n",
    "\n",
    "Let me show you an example. First, we need to set up our embedding model.In this case, we'll be using the [mxbai-embed-xsmall-v1](https://huggingface.co/mixedbread-ai/mxbai-embed-xsmall-v1) model to embed the reviews. If you're running this for the first time, you will need to allow the server to download the model."
   ]
  },
  {
   "cell_type": "code",
   "execution_count": 9,
   "metadata": {},
   "outputs": [
    {
     "name": "stderr",
     "output_type": "stream",
     "text": [
      "/home/cameron/dottxt/odsc/.venv/lib/python3.10/site-packages/tqdm/auto.py:21: TqdmWarning: IProgress not found. Please update jupyter and ipywidgets. See https://ipywidgets.readthedocs.io/en/stable/user_install.html\n",
      "  from .autonotebook import tqdm as notebook_tqdm\n"
     ]
    }
   ],
   "source": [
    "from sentence_transformers import SentenceTransformer\n",
    "\n",
    "# Choose an embedding model\n",
    "embedding_model = SentenceTransformer(\n",
    "    \"mixedbread-ai/mxbai-embed-xsmall-v1\",\n",
    "\n",
    "    # If you want better performance, use the large model:\n",
    "    # \"mixedbread-ai/mxbai-embed-large-v1\",\n",
    "\n",
    "    # You can change the embedding device to 'mps' or 'cpu' if you have a more powerful computer\n",
    "    # device=device\n",
    ")"
   ]
  },
  {
   "cell_type": "markdown",
   "metadata": {},
   "source": [
    "As I mentioned before, embeddings are a way to represent text as a vector of numbers. Let's take a look at the embedding space for a few documents.\n",
    "\n",
    "Don't worry too much about what's going on in this code block -- all we're doing is \n",
    "\n",
    "1. Calculating the embeddings for a few documents\n",
    "2. Reducing the dimensionality of the embeddings from 768 many dimensions to 2 dimensions so we can visualize them"
   ]
  },
  {
   "cell_type": "code",
   "execution_count": 10,
   "metadata": {},
   "outputs": [
    {
     "data": {
      "image/png": "[encoded data removed]",
      "text/plain": [
       "<Figure size 600x400 with 1 Axes>"
      ]
     },
     "metadata": {},
     "output_type": "display_data"
    }
   ],
   "source": [
    "from sklearn.decomposition import PCA\n",
    "import matplotlib.pyplot as plt\n",
    "\n",
    "documents = [\"cat\", \"dog\", \"king\", \"queen\", \"video game\", 'minecraft', 'zelda', 'skyrim']\n",
    "vectors = embedding_model.encode(documents)\n",
    "\n",
    "# Show the principle components of the embedding space\n",
    "pca = PCA(n_components=2)\n",
    "transformed = pca.fit_transform(vectors)\n",
    "\n",
    "# Create the scatter plot with a white background\n",
    "plt.figure(figsize=(6,4), facecolor='white')\n",
    "ax = plt.gca()\n",
    "\n",
    "# Remove axes and grid\n",
    "ax.set_axis_off()\n",
    "\n",
    "# Make the scatter plot cuter with larger, semi-transparent dots\n",
    "plt.scatter(\n",
    "    transformed[:, 0], \n",
    "    transformed[:, 1], \n",
    "    s=150,  # Larger dots\n",
    ")\n",
    "\n",
    "# Add labels above each point with a nicer font\n",
    "for i, doc in enumerate(documents):\n",
    "    plt.annotate(doc, \n",
    "                (transformed[i, 0], transformed[i, 1]),\n",
    "                xytext=(0, 12),  # Slightly higher offset\n",
    "                textcoords='offset points',\n",
    "                ha='center',  # horizontal alignment\n",
    "                va='bottom',  # vertical alignment\n",
    "                fontfamily='sans-serif',\n",
    "                fontsize=14,\n",
    "                color='#444444')  # Darker gray for better readability\n",
    "\n",
    "# Add some padding around the plot\n",
    "plt.tight_layout(pad=1.5)\n",
    "plt.show()"
   ]
  },
  {
   "cell_type": "markdown",
   "metadata": {},
   "source": [
    "Note that the embeddings for \"cat\" and \"dog\" are close to each other, as are \"king\" and \"queen\". Video games are close to each other and form a cluster.\n",
    "\n",
    "When we do RAG, all we are doing is finding embeddings that are close to the query embedding. Let me add a query to the embedding space and see what happens."
   ]
  },
  {
   "cell_type": "code",
   "execution_count": 11,
   "metadata": {},
   "outputs": [],
   "source": [
    "# Calculate the query vector\n",
    "query = \"What's that one game with the big dragon?\"\n",
    "query_vector = embedding_model.encode([query])"
   ]
  },
  {
   "cell_type": "code",
   "execution_count": 12,
   "metadata": {},
   "outputs": [
    {
     "data": {
      "image/png": "[encoded data removed]",
      "text/plain": [
       "<Figure size 600x400 with 1 Axes>"
      ]
     },
     "metadata": {},
     "output_type": "display_data"
    }
   ],
   "source": [
    "from sklearn.decomposition import PCA\n",
    "import matplotlib.pyplot as plt\n",
    "\n",
    "documents = [\"cat\", \"dog\", \"king\", \"queen\", \"video game\", 'minecraft', 'zelda', 'skyrim']\n",
    "vectors = embedding_model.encode(documents)\n",
    "\n",
    "# Show the principle components of the embedding space\n",
    "pca = PCA(n_components=2)\n",
    "transformed = pca.fit_transform(vectors)\n",
    "transformed_query = pca.transform(query_vector[0].reshape(1, -1))\n",
    "\n",
    "# Create the scatter plot with a white background\n",
    "plt.figure(figsize=(6,4), facecolor='white')\n",
    "ax = plt.gca()\n",
    "\n",
    "# Remove axes and grid\n",
    "ax.set_axis_off()\n",
    "\n",
    "# Make the scatter plot cuter with larger, semi-transparent dots\n",
    "plt.scatter(\n",
    "    transformed[:, 0], \n",
    "    transformed[:, 1], \n",
    "    s=150,  # Larger dots\n",
    ")\n",
    "\n",
    "# Add labels above each point\n",
    "for i, doc in enumerate(documents):\n",
    "    plt.annotate(doc, \n",
    "                (transformed[i, 0], transformed[i, 1]),\n",
    "                xytext=(0, 10),  # 10 points vertical offset\n",
    "                textcoords='offset points',\n",
    "                ha='center',  # horizontal alignment\n",
    "                va='bottom') # vertical alignment\n",
    "\n",
    "# Add the query point with a different style\n",
    "plt.scatter(\n",
    "    transformed_query[0][0], \n",
    "    transformed_query[0][1], \n",
    "    marker='*',  # Star marker instead of X\n",
    "    s=200,  # Larger size for emphasis\n",
    ")\n",
    "\n",
    "# Add query label\n",
    "plt.annotate('query', \n",
    "            (transformed_query[0][0], transformed_query[0][1]),\n",
    "            xytext=(-25, 0),  # Place label to left\n",
    "            textcoords='offset points',\n",
    "            ha='center',\n",
    "            va='top',\n",
    "            fontfamily='sans-serif',\n",
    "            fontsize=14,\n",
    "            color='#444444')\n",
    "\n",
    "plt.show()"
   ]
  },
  {
   "cell_type": "markdown",
   "metadata": {},
   "source": [
    "**Try it out!** Play around with the query to see how it changes the results. Try adding a few other documents and seeing where they are in embedding space."
   ]
  },
  {
   "cell_type": "markdown",
   "metadata": {},
   "source": [
    "In practice, we don't visualize the embedding space for RAG purposes. Embeddings are simply too-high dimensional, and there are often too many documents to visualize.\n",
    " \n",
    "We use a metric called __cosine similarity__ to find the most similar documents to a query. Cosine similarity is a measure of how similar two embedding vectors are in \"meaning\".\n",
    "\n",
    "Here's an example of how we can calculate the cosine similarity between a query and a document."
   ]
  },
  {
   "cell_type": "code",
   "execution_count": 13,
   "metadata": {},
   "outputs": [
    {
     "name": "stdout",
     "output_type": "stream",
     "text": [
      "cat         0.23\n",
      "dog         0.23\n",
      "king        0.36\n",
      "queen       0.29\n",
      "video game  0.43\n",
      "minecraft   0.36\n",
      "zelda       0.42\n",
      "skyrim      0.48\n"
     ]
    }
   ],
   "source": [
    "import numpy as np\n",
    "\n",
    "def cosine_similarity(a, b):\n",
    "    return np.dot(a, b) / (np.linalg.norm(a) * np.linalg.norm(b))\n",
    "\n",
    "for (doc, vector) in zip(documents, vectors):\n",
    "    print(f\"{doc:<12}{cosine_similarity(query_vector[0], vector):.2f}\")\n"
   ]
  },
  {
   "cell_type": "markdown",
   "metadata": {},
   "source": [
    "Notice that \"skyrim\" is the closest to our question about games with big dragons. Skyrim has a lot of big dragons in it, if you weren't aware.\n",
    "\n",
    "This is what vector databases like Milvus do, albeit more efficiently. You upload embedding vectors, and query the database using a query vector. Performing RAG at scale requires high-performance vector search tools, like Milvus.\n",
    "\n",
    "Let's see how this works in practice.\n",
    "\n",
    "## Returning to the dataset\n",
    "\n",
    "Now we've introduced embeddings, we can return to the dataset and how we can put it into a vector database.\n",
    "\n",
    "We want to upload embeddings to the vector that contain as much semantic information as possible. In this case, I've chosen to create a single string for each review that contains the review title, text, product title, and rating."
   ]
  },
  {
   "cell_type": "code",
   "execution_count": 14,
   "metadata": {},
   "outputs": [],
   "source": [
    "# Preprocess the text -- compacts the r eview title, text, and product title into a single string\n",
    "def preprocess_text(row):\n",
    "    product_title_row = \"Review for product: \" + row['product_title']\n",
    "    review_title_row = \"Review Title: \" + row['review_title']\n",
    "    rating_row = \"Rating: \" + str(row['rating'])\n",
    "    review_text_row = \"Review Text: \" + row['text']\n",
    "    return f\"{product_title_row} \\n{review_title_row} \\n{rating_row} \\n{review_text_row}\"\n",
    "\n",
    "videogames.loc[:, 'processed_text'] = videogames.apply(preprocess_text, axis=1)\n"
   ]
  },
  {
   "cell_type": "code",
   "execution_count": 15,
   "metadata": {},
   "outputs": [
    {
     "name": "stdout",
     "output_type": "stream",
     "text": [
      "Review for product: The Legend of Zelda: Breath of the Wild Master Edition - Nintendo Switch \n",
      "Review Title: Fantastic game so far! \n",
      "Rating: 5.0 \n",
      "Review Text: I recently purchased the Nintendo Switch version of the game &#34;The Legend of Zelda: Breath of the Wild&#34; and I must say I am very pleased with it!<br /><br />Keep in mind I haven't played it for very long, ..but this game appears to be simply awesome!<br /><br />Breath of the Wild definitely looks like a game that I am going to be playing for a long, long time to come.  The sheer size and depth of the world (and it's gameplay) seems incredible.<br /><br />As a huge fan of the Zelda series I was hoping this game would be something special.. and that most definitely seems to be the case!\n"
     ]
    }
   ],
   "source": [
    "print(videogames.processed_text.iloc[5])"
   ]
  },
  {
   "cell_type": "markdown",
   "metadata": {},
   "source": [
    "# Using Milvus\n",
    "\n",
    "[Milvus](https://milvus.io/) is a vector database that allows us to store and search embeddings. You should think of vector databases as a tool to search for items with similar \"meaning\" to a query.\n",
    "\n",
    "We'll be using the `pymilvus` library to interact with Milvus.\n",
    "\n",
    "```bash\n",
    "pip install \"pymilvus[model]\"\n",
    "```\n",
    "\n",
    "Let's connect to the Milvus database.\n"
   ]
  },
  {
   "cell_type": "code",
   "execution_count": 16,
   "metadata": {},
   "outputs": [],
   "source": [
    "from pymilvus import MilvusClient\n",
    "\n",
    "# Create or connect to the database. This will place the database \n",
    "# in the current working directory with the name \"product-reviews.db\".\n",
    "client = MilvusClient(\"product-reviews.db\")\n",
    "\n",
    "# This part will clear the vector database if overwrite_data is True. Be careful!\n",
    "# The database will be deleted if you run this again.\n",
    "if overwrite_data:\n",
    "    # Drop the collection if it already exists.\n",
    "    # This is a good practice to ensure that we start fresh.\n",
    "    # If you're running this for the first time, you can skip this step.\n",
    "    if client.has_collection(collection_name=\"product_reviews\"):\n",
    "        client.drop_collection(collection_name=\"product_reviews\")\n",
    "\n",
    "    client.create_collection(\n",
    "        collection_name=\"product_reviews\",\n",
    "        dimension=384,  # The vectors we will use in this demo has 768 dimensions\n",
    "    )\n",
    "else:\n",
    "    client.load_collection('product_reviews')\n",
    "    "
   ]
  },
  {
   "cell_type": "markdown",
   "metadata": {},
   "source": [
    "Notice how much information is preserved in the processed text. We have the name of the product, the review title, the rating, and the review text. Any vector search will be able to use this information to find the most relevant reviews. You may wish to remove the product title to allow the embeddings to focus on the review text -- this is a good exercise for you to try!\n",
    "\n",
    "Next, we'll upload the embeddings to the vector database. This is one of the more computationally expensive operations, so it may take a few seconds to complete depending on your hardware."
   ]
  },
  {
   "cell_type": "code",
   "execution_count": 17,
   "metadata": {},
   "outputs": [],
   "source": [
    "# Create a DataFrame to store embeddings with their corresponding IDs\n",
    "import os\n",
    "\n",
    "if not overwrite_data:\n",
    "    # Load the embeddings and IDs from disk\n",
    "    embeddings_data = np.load(\"embeddings.npz\", allow_pickle=True)\n",
    "    vectors = embeddings_data['vectors']\n",
    "    vector_ids = embeddings_data['ids']\n",
    "else:\n",
    "    # Text strings to search\n",
    "    docs = videogames.processed_text.tolist()\n",
    "    # Store original index before encoding\n",
    "    vector_ids = videogames.index.tolist()\n",
    "    vectors = embedding_model.encode(docs)\n",
    "\n",
    "    # Remove any existing embeddings and IDs\n",
    "    if os.path.exists(\"embeddings.npz\"):\n",
    "        os.remove(\"embeddings.npz\")\n",
    "\n",
    "    # Save both embeddings and IDs to disk\n",
    "    np.savez(\"embeddings.npz\", vectors=vectors, ids=vector_ids)\n",
    "\n",
    "# Create a mapping between original IDs and vectors\n",
    "embeddings_map = dict(zip(vector_ids, vectors))"
   ]
  },
  {
   "cell_type": "markdown",
   "metadata": {},
   "source": [
    "`embeddings_map` contains the embeddings for each review by ID. We can use this to look up the embeddings for each review. The only reason we need to do this is for people who are downloading the embeddings from disk -- the order of the embeddings is not guaranteed to match the order of the reviews.\n",
    "\n",
    "Let's upload the embeddings to the vector database."
   ]
  },
  {
   "cell_type": "code",
   "execution_count": 18,
   "metadata": {},
   "outputs": [
    {
     "name": "stdout",
     "output_type": "stream",
     "text": [
      "Data has 23074 entities, each with fields:  dict_keys(['id', 'vector', 'text', 'product_title', 'parent_asin', 'rating', 'timestamp', 'user_id'])\n",
      "Vector dim: 384\n"
     ]
    }
   ],
   "source": [
    "# Each entity has id, vector representation, raw text, and a subject label that we use\n",
    "# to demo metadata filtering later.\n",
    "data = []\n",
    "\n",
    "for row in videogames.itertuples():\n",
    "    data.append({\n",
    "        'id':row.Index, \n",
    "        'vector':embeddings_map[row.Index].tolist(), \n",
    "        'text':row.processed_text,\n",
    "        'product_title': row.product_title,\n",
    "        'parent_asin': row.parent_asin,\n",
    "        'rating': row.rating,\n",
    "        'timestamp': row.timestamp,\n",
    "        'user_id': row.user_id,\n",
    "    })\n",
    "\n",
    "print(\"Data has\", len(data), \"entities, each with fields: \", data[0].keys())\n",
    "print(\"Vector dim:\", len(data[0][\"vector\"]))\n"
   ]
  },
  {
   "cell_type": "markdown",
   "metadata": {},
   "source": [
    "Milvus uses `client.insert` to upload data to the vector database. We simply provide the collection name and the data to upload. This may take some time if you have a large dataset.\n",
    "\n",
    "This will clear the vector database if `overwrite_data` is `True`. Note that inserting documents into Milvus can be slow, so be sure to set `overwrite_data` to `False` if you are not sure. Leaving the default value of `False` means you will use the existing vector database."
   ]
  },
  {
   "cell_type": "code",
   "execution_count": 19,
   "metadata": {},
   "outputs": [],
   "source": [
    "if overwrite_data:\n",
    "    client.insert(collection_name=\"product_reviews\", data=data)"
   ]
  },
  {
   "cell_type": "markdown",
   "metadata": {},
   "source": [
    "We can also visualize the embedding space of the product reviews:"
   ]
  },
  {
   "cell_type": "code",
   "execution_count": 20,
   "metadata": {},
   "outputs": [
    {
     "data": {
      "image/png": "[encoded data removed]",
      "text/plain": [
       "<Figure size 1000x600 with 1 Axes>"
      ]
     },
     "metadata": {},
     "output_type": "display_data"
    }
   ],
   "source": [
    "from sklearn.decomposition import PCA\n",
    "import matplotlib.pyplot as plt\n",
    "import numpy as np\n",
    "\n",
    "# Create PCA\n",
    "pca = PCA(n_components=2)\n",
    "transformed = pca.fit_transform(vectors)\n",
    "\n",
    "# Create color map\n",
    "unique_products = videogames['product_title'].unique()\n",
    "colors = plt.cm.rainbow(np.linspace(0, 1, len(unique_products)))\n",
    "color_dict = dict(zip(unique_products, colors))\n",
    "\n",
    "# Create scatter plot\n",
    "plt.figure(figsize=(10, 6))\n",
    "for product in unique_products:\n",
    "    mask = videogames['product_title'] == product\n",
    "    plt.scatter(\n",
    "        transformed[mask, 0], \n",
    "        transformed[mask, 1],\n",
    "        label=product,\n",
    "        alpha=0.6\n",
    "    )\n",
    "\n",
    "plt.legend(bbox_to_anchor=(1.05, 1), loc='upper left')\n",
    "plt.title('PCA of Game Reviews by Product')\n",
    "plt.tight_layout()\n",
    "plt.show()"
   ]
  },
  {
   "cell_type": "markdown",
   "metadata": {},
   "source": [
    "## Searching the vector database\n",
    "\n",
    "We have now uploaded the data to the vector database, which means we can perform semantic search on the data.\n",
    "\n",
    "We need to pick a question that will determine which reviews are relevant to the question. \n",
    "\n",
    "Suppose we want to know about prices. Are our prices too low? Too high?\n",
    "\n",
    "I'll propose a question that will determine which reviews are relevant to the question. I've phrased it to be general enough to be relevant to all of the products in our dataset, and I've attempted to keep the question from focusing on high or low prices specifically."
   ]
  },
  {
   "cell_type": "code",
   "execution_count": 21,
   "metadata": {},
   "outputs": [],
   "source": [
    "question = \"\"\"\n",
    "How do people feel about our prices? I'm trying to understand how people feel about our prices, \n",
    "both good and bad.\n",
    "\"\"\""
   ]
  },
  {
   "cell_type": "markdown",
   "metadata": {},
   "source": [
    "Vector search compares the query vector to the vectors in the database. The query vector is the embedding for the question we want to ask our database."
   ]
  },
  {
   "cell_type": "code",
   "execution_count": 22,
   "metadata": {},
   "outputs": [],
   "source": [
    "# Embed the query and convert the resulting embedding to a list\n",
    "query_embeddings = [\n",
    "    m.tolist() \n",
    "    for m in embedding_model.encode([question])\n",
    "]"
   ]
  },
  {
   "cell_type": "markdown",
   "metadata": {},
   "source": [
    "Let's search the database using the query vector.\n",
    "\n",
    "The `limit` parameter determines how many results we want to return -- set this to a lower number if your computer is not powerful."
   ]
  },
  {
   "cell_type": "code",
   "execution_count": 23,
   "metadata": {},
   "outputs": [
    {
     "name": "stdout",
     "output_type": "stream",
     "text": [
      " \n",
      "Review Title: Expensive but good. \n",
      "Rating: 4.0 \n",
      "Review Text: Price is going up and not down, otherwise a good game.\n"
     ]
    }
   ],
   "source": [
    "res = client.search(\n",
    "    collection_name=\"product_reviews\",\n",
    "    data=query_embeddings,\n",
    "    limit=10,\n",
    "    output_fields=[\n",
    "        \"text\", \n",
    "        \"product_title\", \n",
    "        \"parent_asin\", \n",
    "        \"asin\", \n",
    "        \"rating\", \n",
    "        \"timestamp\", \n",
    "        \"helpful_vote\", \n",
    "        \"verified_purchase\", \n",
    "        \"user_id\", \n",
    "        \"review_title\",\n",
    "        'id'\n",
    "    ],\n",
    ")\n",
    "\n",
    "print(res[0][0]['entity']['text'])"
   ]
  },
  {
   "cell_type": "markdown",
   "metadata": {},
   "source": [
    "Finally, let's extract the text from the search results to pass them to the LLM."
   ]
  },
  {
   "cell_type": "code",
   "execution_count": 24,
   "metadata": {},
   "outputs": [],
   "source": [
    "# Get the resulting query text\n",
    "# Note: we only provided a single query, so we take the 0th result.\n",
    "# Milvus search queries are lists by default.\n",
    "reviews = [doc['entity']['text'] for doc in res[0]] \n"
   ]
  },
  {
   "cell_type": "markdown",
   "metadata": {},
   "source": [
    "# Using Outlines\n"
   ]
  },
  {
   "cell_type": "markdown",
   "metadata": {},
   "source": [
    "Outlines is a framework for structured generation. It allows us to use a large language model (LLM) to generate text that is structured in a specific way.\n",
    "\n",
    "We are going to use the `Qwen/Qwen2.5-1.5B-Instruct` model. This is a small model that is fast and cheap to run. Most computers should be able to run this, albeit slowly.\n",
    "\n",
    "Model selection is an important part of any language model project. The larger models will generally give better results, but will also be slower and memory-intensive. As this is a workshop designed for a general audience, we will use the smaller model.\n"
   ]
  },
  {
   "cell_type": "code",
   "execution_count": 25,
   "metadata": {},
   "outputs": [],
   "source": [
    "import outlines\n",
    "\n",
    "# model_string = 'Qwen/Qwen2.5-0.5B-Instruct' # If you can't run the 1.5B model, use this one\n",
    "model_string = 'Qwen/Qwen2.5-1.5B-Instruct'\n",
    "\n",
    "llm = outlines.models.transformers(\n",
    "    model_string,\n",
    "    device=device,\n",
    ")"
   ]
  },
  {
   "cell_type": "markdown",
   "metadata": {},
   "source": [
    "Outlines does not add chat template tokens to the model, so we need to add them manually. Chat template tokens are special tokens used in instruction-tuned models to indicate system prompts, user prompts, and assistant prompts.\n",
    "\n",
    "Failing to include chat template tokens will cause the model to generate text with unpredicatable results. The output will _always_ conform to the schema, but the actual text may be nonsensical or incorrect.\n",
    "\n",
    "`transformers` provides an `AutoTokenizer` class that can be used to easily apply chat template tokens to the model.\n"
   ]
  },
  {
   "cell_type": "code",
   "execution_count": 26,
   "metadata": {},
   "outputs": [
    {
     "name": "stdout",
     "output_type": "stream",
     "text": [
      "<|im_start|>system\n",
      "You are a helpful assistant assisting an analyst analyzing product reviews.<|im_end|>\n",
      "<|im_start|>user\n",
      "Hello<|im_end|>\n",
      "<|im_start|>assistant\n",
      "\n"
     ]
    }
   ],
   "source": [
    "from transformers import AutoTokenizer\n",
    "\n",
    "# Load the tokenizer\n",
    "tokenizer = AutoTokenizer.from_pretrained(model_string)\n",
    "\n",
    "# Simple template function\n",
    "def template(\n",
    "        user_prompt: str, \n",
    "        system_prompt: str=\"You are a helpful assistant assisting an analyst analyzing product reviews.\"\n",
    "    ):\n",
    "    return tokenizer.apply_chat_template(\n",
    "        [{\"role\": \"system\", \"content\": system_prompt}, {\"role\": \"user\", \"content\": user_prompt}],\n",
    "        tokenize=False,\n",
    "        truncation=True,\n",
    "        add_bos_token=True,\n",
    "        add_generation_prompt=True\n",
    "    )\n",
    "\n",
    "print(template(\"Hello\"))"
   ]
  },
  {
   "cell_type": "markdown",
   "metadata": {},
   "source": [
    "Note the `<|im_start|>system`, `<|im_start|>user`, and `<|im_end|>` tokens. These are the system prompt and user prompt tokens. \n",
    "\n",
    "We insert a trailing `<|im_start|>assistant` token to indicate the beginning of the assistant prompt. This can help the model understand that it is responding to the prompt. Not including this token can cause unpredictable results."
   ]
  },
  {
   "cell_type": "markdown",
   "metadata": {},
   "source": [
    "Let's compare the two outputs. We'll use the unstructured text generator to compare the two outputs. A `generator` is a function that takes a prompt and returns language model output. To return structured data, we typically construct the generator with `outlines.generate.json`. You may also use `outlines.generate.text` to return unstructured text.\n",
    "\n",
    "Here is how to initialize the unstructured text generator:"
   ]
  },
  {
   "cell_type": "code",
   "execution_count": 27,
   "metadata": {},
   "outputs": [],
   "source": [
    "# Generator function to produce arbitrary responses\n",
    "generator = outlines.generate.text(llm)"
   ]
  },
  {
   "cell_type": "markdown",
   "metadata": {},
   "source": [
    "Here is the result with and without the chat template tokens:"
   ]
  },
  {
   "cell_type": "code",
   "execution_count": 28,
   "metadata": {},
   "outputs": [
    {
     "name": "stdout",
     "output_type": "stream",
     "text": [
      "Without chat template tokens:\n",
      " Oktoberfest, it's Party Season! Ladies and\n",
      "\n",
      "With chat template tokens:\n",
      "Hello! How can I assist you today? Do\n"
     ]
    }
   ],
   "source": [
    "print(\"Without chat template tokens:\")\n",
    "print(generator(\"Hello\", max_tokens=10))\n",
    "\n",
    "print(\"\\nWith chat template tokens:\")\n",
    "print(generator(template(\"Hello\"), max_tokens=10))"
   ]
  },
  {
   "cell_type": "markdown",
   "metadata": {},
   "source": [
    "Note that the untemplated response is confusing and nonsensical. The templated response is consistent with our general experience of talking to chatbots and other instruction-tuned models."
   ]
  },
  {
   "cell_type": "markdown",
   "metadata": {},
   "source": [
    "## Using Outlines to extract structured data with a language model\n",
    "\n",
    "The next part is to choose a few pieces of structured data that we would like to extract from the reviews.\n",
    "\n",
    "We typically define the structure of the data we want to extract by defining a Pydantic class. Pydantic is a library that allows us to define strongly-typed data structures.\n",
    "\n",
    "Outlines will force the language model to output data in the format you specify -- think of it as defining a \"shape\" of the response, and then allowing the model to fill in the details.\n",
    "\n",
    "Let's take a look at a review."
   ]
  },
  {
   "cell_type": "code",
   "execution_count": 29,
   "metadata": {},
   "outputs": [
    {
     "name": "stdout",
     "output_type": "stream",
     "text": [
      " \n",
      "Review Title: Great pricing from this reseller \n",
      "Rating: 4.0 \n",
      "Review Text: This reseller has great pricing\n"
     ]
    }
   ],
   "source": [
    "print(reviews[2])"
   ]
  },
  {
   "cell_type": "markdown",
   "metadata": {},
   "source": [
    "Great -- spot checking this, it seems to be about prices. Our vector search worked well!\n",
    "\n",
    "Let's define the data we want to extract from the reviews. To start, we'll just define a general response to the question."
   ]
  },
  {
   "cell_type": "code",
   "execution_count": 30,
   "metadata": {},
   "outputs": [],
   "source": [
    "from pydantic import BaseModel\n",
    "\n",
    "class Answer(BaseModel):\n",
    "    feedback_summary: str\n",
    "    answer: str\n"
   ]
  },
  {
   "cell_type": "markdown",
   "metadata": {},
   "source": [
    "We have the structure we want to extract, so let's create the generator. \n",
    "\n",
    "`outlines.generate.json` is a generator that takes a prompt and returns a structured response.\n",
    "\n",
    "In this case, we know that the result of the generator will be a `Answer` object."
   ]
  },
  {
   "cell_type": "code",
   "execution_count": 31,
   "metadata": {},
   "outputs": [],
   "source": [
    "# This function will take an arbitrary review string and\n",
    "# return a structured `Answer` object.\n",
    "review_generator = outlines.generate.json(llm, Answer)"
   ]
  },
  {
   "cell_type": "markdown",
   "metadata": {},
   "source": [
    "We can test what it looks like with random input:"
   ]
  },
  {
   "cell_type": "code",
   "execution_count": 32,
   "metadata": {},
   "outputs": [
    {
     "name": "stdout",
     "output_type": "stream",
     "text": [
      "feedback_summary='Very Good' answer='1388564885485225423876485,11111,1010101010,888888888888,2078,256,1111111111111,2078,256,1111111111111,2078,256,1111111111111,2078,256,1111111111111,2078,256,1111111111111,2078,256,1111111111111,2078,256,1111111111111,2078,256,2078,256,2078,256,2078,256,2078,256,2078,256,2078,256,2078,256,2078,256,2078,256,2078,256,2078,256,2078,256,2078,256,2078,256,2078,256,3444172566725946048639590490704465302538443980072723330944569685096353214505024431408,'\n"
     ]
    }
   ],
   "source": [
    "print(review_generator(\"This is a great game!\"))"
   ]
  },
  {
   "cell_type": "markdown",
   "metadata": {},
   "source": [
    "Great. Next, we need to prompt our model, as you would in any language model context.\n",
    "\n",
    "You still have to provide good prompts. Structured generation is not a magic bullet. You will always get the structure you specify, but good prompting will improve the quality of the output.\n",
    "\n",
    "**Your turn!** Experiment with the prompt below. Can you help the model produce more useful output?"
   ]
  },
  {
   "cell_type": "code",
   "execution_count": 33,
   "metadata": {},
   "outputs": [],
   "source": [
    "def answer_prompt(question: str, reviews: str):\n",
    "    return template(f\"\"\"\n",
    "    Please see a list of reviews for one or more products. Analyze the reviews and provide\n",
    "    an answer to my question.\n",
    "\n",
    "    Respond in JSON format, following the schema: {Answer.model_json_schema()}\n",
    "\n",
    "    My question is: {question}\n",
    "\n",
    "    # Begin review\n",
    "\n",
    "    {reviews}\n",
    "    \"\"\")"
   ]
  },
  {
   "cell_type": "markdown",
   "metadata": {},
   "source": [
    "The function `review_prompt` takes a review and returns a chat-templated prompt for the language model.\n",
    "\n",
    "We can now use the `review_generator` to generate structured data from the reviews. This is where the language model is used -- it can be slow depending on your hardware. If you need to speed it up, you can reduce the number of reviews returned by the vector search (the `limit` keyword) earlier in the lesson."
   ]
  },
  {
   "cell_type": "code",
   "execution_count": 34,
   "metadata": {},
   "outputs": [],
   "source": [
    "# Generate structured data from the reviews\n",
    "reviews_all = \"\\n\\n\".join(reviews)\n",
    "review_result = review_generator(answer_prompt(reviews_all, question))"
   ]
  },
  {
   "cell_type": "markdown",
   "metadata": {},
   "source": [
    "What do the results look like? Let's see!"
   ]
  },
  {
   "cell_type": "code",
   "execution_count": 35,
   "metadata": {},
   "outputs": [
    {
     "name": "stdout",
     "output_type": "stream",
     "text": [
      "feedback_summary=\"The reviews express a mixed sentiment about the price of the products, with some high ratings like 5.0 indicating good prices and others like 4.0 suggesting the price might not be to everyone's satisfaction.\" answer='The reviews show a general positive view towards the prices, with an average rating of 4.5 out of 5, highlighting that generally, people find the prices reasonable. Some users, however, are dissatisfied, believing they are too expensive, as indicated by the '\n"
     ]
    }
   ],
   "source": [
    "# Print the first result\n",
    "print(review_result)"
   ]
  },
  {
   "cell_type": "code",
   "execution_count": 36,
   "metadata": {},
   "outputs": [
    {
     "name": "stdout",
     "output_type": "stream",
     "text": [
      "Answer:            The reviews show a general positive view towards the prices, with an average rating of 4.5 out of 5, highlighting that generally, people find the prices reasonable. Some users, however, are dissatisfied, believing they are too expensive, as indicated by the \n",
      "Feedback summary:  The reviews express a mixed sentiment about the price of the products, with some high ratings like 5.0 indicating good prices and others like 4.0 suggesting the price might not be to everyone's satisfaction.\n"
     ]
    }
   ],
   "source": [
    "# print(\"Price value:      \", review_result.price_value)\n",
    "# print(\"Performance:      \", review_result.performance)\n",
    "# print(\"Gameplay:         \", review_result.gameplay)\n",
    "# print(\"Bugs:             \", review_result.bugs)\n",
    "# print(\"Customer service: \", review_result.customer_service)\n",
    "\n",
    "print(\"Answer:           \", review_result.answer)\n",
    "print(\"Feedback summary: \", review_result.feedback_summary)"
   ]
  },
  {
   "cell_type": "markdown",
   "metadata": {},
   "source": [
    "Notice that the model is sometimes confused. This is a good example of language models not solving all your problems! You need to prompt the model, perform evaluations, and look at your data. Larger models tend to be more accurate if you notice poor output quality.\n",
    "\n",
    "All the code we have above can be wrapped in a function to make it easier to use:"
   ]
  },
  {
   "cell_type": "code",
   "execution_count": 37,
   "metadata": {},
   "outputs": [],
   "source": [
    "def analyze_product(\n",
    "        question: str, \n",
    "        product_title: str = None,\n",
    "        limit: int = 20\n",
    "    ):\n",
    "    search_results = client.search(\n",
    "        collection_name=\"product_reviews\",\n",
    "        data=query_embeddings,\n",
    "        limit=limit,\n",
    "        # Let's limit the search to Minecraft for now\n",
    "        filter=f\"product_title == '{product_title}'\" if product_title else None,\n",
    "        output_fields=[\n",
    "            \"text\", \n",
    "            \"product_title\", \n",
    "            \"parent_asin\", \n",
    "            \"asin\", \n",
    "            \"rating\", \n",
    "            \"timestamp\", \n",
    "            \"helpful_vote\", \n",
    "            \"verified_purchase\", \n",
    "            \"user_id\", \n",
    "            \"review_title\",\n",
    "            'id'\n",
    "        ],\n",
    "    )\n",
    "\n",
    "    # Review text\n",
    "    all_review_texts = [doc['entity']['text'] for doc in search_results[0]] \n",
    "\n",
    "    # Generate structured data from the reviews\n",
    "    reviews_all = \"\\n\\n\".join(all_review_texts)\n",
    "    review_result = review_generator(answer_prompt(reviews_all, question))\n",
    "\n",
    "    return review_result\n",
    "\n",
    "minecraft_price_review = analyze_product(\"What do people think about the price of Minecraft?\", \"Minecraft\")\n"
   ]
  },
  {
   "cell_type": "code",
   "execution_count": 38,
   "metadata": {},
   "outputs": [
    {
     "name": "stdout",
     "output_type": "stream",
     "text": [
      "Feedback summary:  People generally think highly of the price and description of the products. However, some reviewers disapprove of the high price due to other cheaper options available.\n",
      "Answer:            Reviews consistently highlight the high price of Minecraft, with some expressing disappointment and seeking alternatives due to its high price relative to other games. Price is often hailed as \n"
     ]
    }
   ],
   "source": [
    "\n",
    "print(\"Feedback summary: \", minecraft_price_review.feedback_summary)\n",
    "print(\"Answer:           \", minecraft_price_review.answer)"
   ]
  },
  {
   "cell_type": "code",
   "execution_count": 39,
   "metadata": {},
   "outputs": [
    {
     "name": "stdout",
     "output_type": "stream",
     "text": [
      "Feedback summary:  People like the price, good gameplay, excellent value for money, and overall good experience with the product.\n"
     ]
    }
   ],
   "source": [
    "popular_games_review = analyze_product(\"What do people like about Skyrim?\")\n",
    "\n",
    "print(\"Feedback summary: \", popular_games_review.feedback_summary)"
   ]
  },
  {
   "cell_type": "markdown",
   "metadata": {},
   "source": [
    "**Your turn!** Play around with the `analyze_product` function. Can you find a question that is difficult for the model to answer? What do you think you could change to improve the quality of the output?\n"
   ]
  },
  {
   "cell_type": "markdown",
   "metadata": {},
   "source": [
    "## Structuring every data point\n",
    "\n",
    "The RAG approach outlined above is designed for very large datasets where structuring output is computationally expensive. We performed RAG to find a subsample of the data and then produced some structured output.\n",
    "\n",
    "However, If you have the resources, there is a more robust approach.\n",
    "\n",
    "You can add sentiment and feedback items to each review in your dataset (in this case, possibly millions of reviews). Structuring reviews as you put them into the database can help you perform analysis using more standard data analysis tools through database queries or standard statistical tools.\n",
    "\n",
    "Let's take a look at how you might do this, if you wanted to extract sentiment for a pre-set list of categories. Suppose we want to extract sentiment for the following categories:\n",
    "\n",
    "- Gameplay\n",
    "- Bugs\n",
    "- Customer service\n",
    "\n",
    "We can define a Pydantic class to represent the feedback for each category."
   ]
  },
  {
   "cell_type": "code",
   "execution_count": 40,
   "metadata": {},
   "outputs": [],
   "source": [
    "from typing import Literal, Optional\n",
    "\n",
    "class FeedbackItem(BaseModel):\n",
    "    sentiment: Literal[\"positive\", \"negative\", \"neutral\"]\n",
    "    \n",
    "class Feedback(BaseModel):\n",
    "    gameplay: FeedbackItem\n",
    "    bugs: FeedbackItem\n",
    "    customer_service: FeedbackItem\n",
    "\n",
    "feedback_generator = outlines.generate.json(llm, Feedback)"
   ]
  },
  {
   "cell_type": "markdown",
   "metadata": {},
   "source": [
    "Next, we need to define a prompt that will extract the sentiment for each category."
   ]
  },
  {
   "cell_type": "code",
   "execution_count": 41,
   "metadata": {},
   "outputs": [],
   "source": [
    "def feedback_prompt(review: str):\n",
    "    return template(f\"\"\"\n",
    "    Please see a review for a product. Analyze the review and describe the user's experience\n",
    "    with the product across the following categories:\n",
    "\n",
    "    - Gameplay\n",
    "    - Bugs\n",
    "    - Customer service\n",
    "                    \n",
    "    If the user did not mention anything related to the category, please provide a neutral sentiment.\n",
    "\n",
    "    Respond in JSON format, following the schema: {Feedback.model_json_schema()}\n",
    "\n",
    "    # Begin review\n",
    "\n",
    "    {review}\n",
    "    \"\"\")\n"
   ]
  },
  {
   "cell_type": "markdown",
   "metadata": {},
   "source": [
    "Now we can run the feedback generator on each review."
   ]
  },
  {
   "cell_type": "code",
   "execution_count": 42,
   "metadata": {},
   "outputs": [],
   "source": [
    "videogames_subset = videogames.head(10)\n",
    "\n",
    "new_data = []\n",
    "\n",
    "for row in videogames_subset.itertuples():\n",
    "    feedback = feedback_generator(feedback_prompt(row.processed_text))\n",
    "    new_data.append({\n",
    "        'id': row.Index,\n",
    "        'feedback_category': 'gameplay',\n",
    "        'feedback_sentiment': feedback.gameplay.sentiment,\n",
    "    })\n",
    "\n",
    "    new_data.append({\n",
    "        'id': row.Index,\n",
    "        'feedback_category': 'bugs',\n",
    "        'feedback_sentiment': feedback.bugs.sentiment,\n",
    "    })\n",
    "\n",
    "    new_data.append({\n",
    "        'id': row.Index,\n",
    "        'feedback_category': 'customer_service',\n",
    "        'feedback_sentiment': feedback.customer_service.sentiment,\n",
    "    })"
   ]
  },
  {
   "cell_type": "markdown",
   "metadata": {},
   "source": [
    "We can examine the results as a DataFrame."
   ]
  },
  {
   "cell_type": "code",
   "execution_count": 43,
   "metadata": {},
   "outputs": [
    {
     "data": {
      "text/html": [
       "<div>\n",
       "<style scoped>\n",
       "    .dataframe tbody tr th:only-of-type {\n",
       "        vertical-align: middle;\n",
       "    }\n",
       "\n",
       "    .dataframe tbody tr th {\n",
       "        vertical-align: top;\n",
       "    }\n",
       "\n",
       "    .dataframe thead th {\n",
       "        text-align: right;\n",
       "    }\n",
       "</style>\n",
       "<table border=\"1\" class=\"dataframe\">\n",
       "  <thead>\n",
       "    <tr style=\"text-align: right;\">\n",
       "      <th></th>\n",
       "      <th>id</th>\n",
       "      <th>feedback_category</th>\n",
       "      <th>feedback_sentiment</th>\n",
       "    </tr>\n",
       "  </thead>\n",
       "  <tbody>\n",
       "    <tr>\n",
       "      <th>0</th>\n",
       "      <td>366</td>\n",
       "      <td>gameplay</td>\n",
       "      <td>positive</td>\n",
       "    </tr>\n",
       "    <tr>\n",
       "      <th>1</th>\n",
       "      <td>366</td>\n",
       "      <td>bugs</td>\n",
       "      <td>neutral</td>\n",
       "    </tr>\n",
       "    <tr>\n",
       "      <th>2</th>\n",
       "      <td>366</td>\n",
       "      <td>customer_service</td>\n",
       "      <td>neutral</td>\n",
       "    </tr>\n",
       "    <tr>\n",
       "      <th>3</th>\n",
       "      <td>1018</td>\n",
       "      <td>gameplay</td>\n",
       "      <td>positive</td>\n",
       "    </tr>\n",
       "    <tr>\n",
       "      <th>4</th>\n",
       "      <td>1018</td>\n",
       "      <td>bugs</td>\n",
       "      <td>neutral</td>\n",
       "    </tr>\n",
       "    <tr>\n",
       "      <th>5</th>\n",
       "      <td>1018</td>\n",
       "      <td>customer_service</td>\n",
       "      <td>neutral</td>\n",
       "    </tr>\n",
       "    <tr>\n",
       "      <th>6</th>\n",
       "      <td>1079</td>\n",
       "      <td>gameplay</td>\n",
       "      <td>positive</td>\n",
       "    </tr>\n",
       "    <tr>\n",
       "      <th>7</th>\n",
       "      <td>1079</td>\n",
       "      <td>bugs</td>\n",
       "      <td>neutral</td>\n",
       "    </tr>\n",
       "    <tr>\n",
       "      <th>8</th>\n",
       "      <td>1079</td>\n",
       "      <td>customer_service</td>\n",
       "      <td>neutral</td>\n",
       "    </tr>\n",
       "    <tr>\n",
       "      <th>9</th>\n",
       "      <td>1174</td>\n",
       "      <td>gameplay</td>\n",
       "      <td>positive</td>\n",
       "    </tr>\n",
       "    <tr>\n",
       "      <th>10</th>\n",
       "      <td>1174</td>\n",
       "      <td>bugs</td>\n",
       "      <td>neutral</td>\n",
       "    </tr>\n",
       "    <tr>\n",
       "      <th>11</th>\n",
       "      <td>1174</td>\n",
       "      <td>customer_service</td>\n",
       "      <td>neutral</td>\n",
       "    </tr>\n",
       "    <tr>\n",
       "      <th>12</th>\n",
       "      <td>1363</td>\n",
       "      <td>gameplay</td>\n",
       "      <td>positive</td>\n",
       "    </tr>\n",
       "    <tr>\n",
       "      <th>13</th>\n",
       "      <td>1363</td>\n",
       "      <td>bugs</td>\n",
       "      <td>neutral</td>\n",
       "    </tr>\n",
       "    <tr>\n",
       "      <th>14</th>\n",
       "      <td>1363</td>\n",
       "      <td>customer_service</td>\n",
       "      <td>positive</td>\n",
       "    </tr>\n",
       "    <tr>\n",
       "      <th>15</th>\n",
       "      <td>1364</td>\n",
       "      <td>gameplay</td>\n",
       "      <td>positive</td>\n",
       "    </tr>\n",
       "    <tr>\n",
       "      <th>16</th>\n",
       "      <td>1364</td>\n",
       "      <td>bugs</td>\n",
       "      <td>neutral</td>\n",
       "    </tr>\n",
       "    <tr>\n",
       "      <th>17</th>\n",
       "      <td>1364</td>\n",
       "      <td>customer_service</td>\n",
       "      <td>neutral</td>\n",
       "    </tr>\n",
       "    <tr>\n",
       "      <th>18</th>\n",
       "      <td>1419</td>\n",
       "      <td>gameplay</td>\n",
       "      <td>negative</td>\n",
       "    </tr>\n",
       "    <tr>\n",
       "      <th>19</th>\n",
       "      <td>1419</td>\n",
       "      <td>bugs</td>\n",
       "      <td>neutral</td>\n",
       "    </tr>\n",
       "    <tr>\n",
       "      <th>20</th>\n",
       "      <td>1419</td>\n",
       "      <td>customer_service</td>\n",
       "      <td>neutral</td>\n",
       "    </tr>\n",
       "    <tr>\n",
       "      <th>21</th>\n",
       "      <td>1568</td>\n",
       "      <td>gameplay</td>\n",
       "      <td>positive</td>\n",
       "    </tr>\n",
       "    <tr>\n",
       "      <th>22</th>\n",
       "      <td>1568</td>\n",
       "      <td>bugs</td>\n",
       "      <td>neutral</td>\n",
       "    </tr>\n",
       "    <tr>\n",
       "      <th>23</th>\n",
       "      <td>1568</td>\n",
       "      <td>customer_service</td>\n",
       "      <td>neutral</td>\n",
       "    </tr>\n",
       "    <tr>\n",
       "      <th>24</th>\n",
       "      <td>2302</td>\n",
       "      <td>gameplay</td>\n",
       "      <td>positive</td>\n",
       "    </tr>\n",
       "    <tr>\n",
       "      <th>25</th>\n",
       "      <td>2302</td>\n",
       "      <td>bugs</td>\n",
       "      <td>neutral</td>\n",
       "    </tr>\n",
       "    <tr>\n",
       "      <th>26</th>\n",
       "      <td>2302</td>\n",
       "      <td>customer_service</td>\n",
       "      <td>neutral</td>\n",
       "    </tr>\n",
       "    <tr>\n",
       "      <th>27</th>\n",
       "      <td>2854</td>\n",
       "      <td>gameplay</td>\n",
       "      <td>neutral</td>\n",
       "    </tr>\n",
       "    <tr>\n",
       "      <th>28</th>\n",
       "      <td>2854</td>\n",
       "      <td>bugs</td>\n",
       "      <td>neutral</td>\n",
       "    </tr>\n",
       "    <tr>\n",
       "      <th>29</th>\n",
       "      <td>2854</td>\n",
       "      <td>customer_service</td>\n",
       "      <td>neutral</td>\n",
       "    </tr>\n",
       "  </tbody>\n",
       "</table>\n",
       "</div>"
      ],
      "text/plain": [
       "      id feedback_category feedback_sentiment\n",
       "0    366          gameplay           positive\n",
       "1    366              bugs            neutral\n",
       "2    366  customer_service            neutral\n",
       "3   1018          gameplay           positive\n",
       "4   1018              bugs            neutral\n",
       "5   1018  customer_service            neutral\n",
       "6   1079          gameplay           positive\n",
       "7   1079              bugs            neutral\n",
       "8   1079  customer_service            neutral\n",
       "9   1174          gameplay           positive\n",
       "10  1174              bugs            neutral\n",
       "11  1174  customer_service            neutral\n",
       "12  1363          gameplay           positive\n",
       "13  1363              bugs            neutral\n",
       "14  1363  customer_service           positive\n",
       "15  1364          gameplay           positive\n",
       "16  1364              bugs            neutral\n",
       "17  1364  customer_service            neutral\n",
       "18  1419          gameplay           negative\n",
       "19  1419              bugs            neutral\n",
       "20  1419  customer_service            neutral\n",
       "21  1568          gameplay           positive\n",
       "22  1568              bugs            neutral\n",
       "23  1568  customer_service            neutral\n",
       "24  2302          gameplay           positive\n",
       "25  2302              bugs            neutral\n",
       "26  2302  customer_service            neutral\n",
       "27  2854          gameplay            neutral\n",
       "28  2854              bugs            neutral\n",
       "29  2854  customer_service            neutral"
      ]
     },
     "execution_count": 43,
     "metadata": {},
     "output_type": "execute_result"
    }
   ],
   "source": [
    "pd.DataFrame(new_data)"
   ]
  },
  {
   "cell_type": "markdown",
   "metadata": {},
   "source": [
    "**Your turn!** Try changing the prompt and definition of `Feedback` to extract sentiment for a different set of categories."
   ]
  },
  {
   "cell_type": "markdown",
   "metadata": {},
   "source": [
    "\n",
    "# Conclusion\n",
    "\n",
    "In this lesson, we've covered how to use RAG to search for product reviews relevant to a question and then generate structured data from the reviews. We've also covered how to use Outlines to generate structured data from the reviews.\n",
    "\n",
    "I hope you found this lesson useful! If you have any questions, please feel free to reach out to me on [LinkedIn](https://www.linkedin.com/in/cameron-pfiffer/)."
   ]
  }
 ],
 "metadata": {
  "kernelspec": {
   "display_name": "Python 3 (ipykernel)",
   "language": "python",
   "name": "python3"
  },
  "language_info": {
   "codemirror_mode": {
    "name": "ipython",
    "version": 3
   },
   "file_extension": ".py",
   "mimetype": "text/x-python",
   "name": "python",
   "nbconvert_exporter": "python",
   "pygments_lexer": "ipython3",
   "version": "3.10.12"
  }
 },
 "nbformat": 4,
 "nbformat_minor": 4
}
